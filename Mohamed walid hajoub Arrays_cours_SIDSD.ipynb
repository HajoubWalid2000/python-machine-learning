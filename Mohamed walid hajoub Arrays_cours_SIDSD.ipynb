{
 "cells": [
  {
   "cell_type": "markdown",
   "id": "2052bd15",
   "metadata": {},
   "source": [
    "<img src=\"pp.png\" align =\"center\" width=\"900\" height=\"600\" /><br>\n",
    "<h1 align =\"center\" style = \"color:blue\"> Arrays </h1>"
   ]
  },
  {
   "cell_type": "markdown",
   "id": "d9f712d4",
   "metadata": {},
   "source": [
    "### <font color=blue>**Les objets \"Array\" en Python**</font>\n",
    "\n",
    "Un objet **array** est une séquence de valeurs <font color=\"blue\">**numérique ou alphanumérique**</font> qui se présentent sous forme de tableau d'une ou de plusieurs dimensions.\n",
    "Python n'a pas de support intégré pour les tableaux, mais les listes Python peuvent être utilisées à la place ou bien fonction array() qui accessible depuis le module **Numpy**. il s'agit d'un module spécialisé dans le calcul scientifique en Python.\n",
    "Pour pouvoir manipuler les objets array il faut alors commencer par manupiler liste aprés par importer le module NumPy.<br>\n",
    "<h2 ><font color=red> I- Array et liste </font></h2>\n"
   ]
  },
  {
   "cell_type": "markdown",
   "id": "0337cb2c",
   "metadata": {},
   "source": [
    "- Cette partie vous montre comment utiliser LISTS comme ARRAYS, cependant, pour travailler avec des tableaux en Python, vous devrez importer une bibliothèque, comme la bibliothèque NumPy .\n"
   ]
  },
  {
   "cell_type": "markdown",
   "id": "b63d969b",
   "metadata": {},
   "source": [
    "<h3>Qu'est-ce qu'un tableau ?</h3>\n",
    "    \n",
    "- Si vous avez une liste d'éléments (une liste de noms de voitures, par exemple), le stockage des voitures dans des variables uniques pourrait ressembler à ceci :"
   ]
  },
  {
   "cell_type": "code",
   "execution_count": 40,
   "id": "5029fac6",
   "metadata": {},
   "outputs": [],
   "source": [
    "car1 = \"Ford\"\n",
    "car2 = \"Volvo\"\n",
    "car3 = \"BMW\""
   ]
  },
  {
   "cell_type": "markdown",
   "id": "c27ee4af",
   "metadata": {},
   "source": [
    "Cependant, que se passe-t-il si vous voulez parcourir les voitures et en trouver une en particulier ? Et si vous n'aviez pas 3 voitures, mais 300 ?\n",
    "\n",
    "La solution est un tableau !\n",
    "\n",
    "- Un tableau est une variable spéciale, qui peut contenir plusieurs valeurs à la fois.\n",
    "- pour declarer : **nom_array = [ valeur ]**\n",
    "- l'index des tableaux toujours commencer par 0."
   ]
  },
  {
   "cell_type": "code",
   "execution_count": 41,
   "id": "480a55ac",
   "metadata": {},
   "outputs": [],
   "source": [
    "cars = [\"Ford\", \"Volvo\", \"BMW\"]"
   ]
  },
  {
   "cell_type": "markdown",
   "id": "714f78bf",
   "metadata": {},
   "source": [
    "<h3> Accéder aux éléments d'un tableau </h3>\n",
    "\n",
    "Vous vous référez à un élément de tableau en vous référant au numéro d'index<br>\n",
    "- Pour obtenez la valeur du premier élément du tableau :"
   ]
  },
  {
   "cell_type": "code",
   "execution_count": 42,
   "id": "1499b7c1",
   "metadata": {},
   "outputs": [
    {
     "name": "stdout",
     "output_type": "stream",
     "text": [
      "Ford\n"
     ]
    }
   ],
   "source": [
    "x = cars[0]\n",
    "print(x)"
   ]
  },
  {
   "cell_type": "markdown",
   "id": "80b00436",
   "metadata": {},
   "source": [
    "<h3>Modifiez la valeur d'un élément du tableau :</h3>\n",
    "\n",
    "- nom_tab [ index_element ] = new_value"
   ]
  },
  {
   "cell_type": "code",
   "execution_count": 43,
   "id": "f9b246fe",
   "metadata": {},
   "outputs": [],
   "source": [
    "cars[0] = \"Toyota\""
   ]
  },
  {
   "cell_type": "markdown",
   "id": "7647f41d",
   "metadata": {},
   "source": [
    "<h3>La longueur d'un tableau</h3>\n",
    "\n",
    "- Utilisez la **len()** méthode pour renvoyer la longueur d'un tableau (le nombre d'éléments dans un tableau)."
   ]
  },
  {
   "cell_type": "code",
   "execution_count": 44,
   "id": "45e89d61",
   "metadata": {},
   "outputs": [
    {
     "name": "stdout",
     "output_type": "stream",
     "text": [
      "3\n"
     ]
    }
   ],
   "source": [
    "d = len(cars)\n",
    "print(d)"
   ]
  },
  {
   "cell_type": "markdown",
   "id": "4dfb2443",
   "metadata": {},
   "source": [
    "<h3>Éléments de tableau en boucle</h3>\n",
    "\n",
    "- Vous pouvez utiliser la **for in** boucle pour parcourir tous les éléments d'un tableau.\n",
    "\n",
    "<h5> <font color=\"green\"> Exemple</font></h5>\n",
    "Imprimer chaque élément du cars tableau :"
   ]
  },
  {
   "cell_type": "code",
   "execution_count": 5,
   "id": "d18b84a1",
   "metadata": {},
   "outputs": [
    {
     "name": "stdout",
     "output_type": "stream",
     "text": [
      "Ford\n",
      "Volvo\n",
      "BMW\n"
     ]
    }
   ],
   "source": [
    "for i in cars:\n",
    "  print(i)"
   ]
  },
  {
   "cell_type": "markdown",
   "id": "d60b2ade",
   "metadata": {},
   "source": [
    "<h3>Ajout d'éléments de tableau</h3>\n",
    "\n",
    "- Vous pouvez utiliser la **append()** méthode pour ajouter un élément à un tableau.\n",
    "\n",
    "<h5><font color=\"green\"> Exemple</font></h5>\n",
    "Ajoutez un élément supplémentaire au carstableau :"
   ]
  },
  {
   "cell_type": "code",
   "execution_count": 6,
   "id": "59fa063b",
   "metadata": {},
   "outputs": [],
   "source": [
    "cars.append(\"Honda\")"
   ]
  },
  {
   "cell_type": "markdown",
   "id": "ca8170d4",
   "metadata": {},
   "source": [
    "<h3>Suppression d'éléments de tableau</h3>\n",
    "\n",
    "- Vous pouvez utiliser la **pop()** méthode pour supprimer un élément du tableau.\n",
    "- Vous pouvez également utiliser la **remove()** méthode pour supprimer un élément du tableau."
   ]
  },
  {
   "cell_type": "code",
   "execution_count": null,
   "id": "291098cc",
   "metadata": {},
   "outputs": [],
   "source": [
    "cars.pop(1) # Supprimez le deuxième élément du cars tableau\n",
    "cars.remove(\"Volvo\") # Supprimez l'élément qui a la valeur \"Volvo\""
   ]
  },
  {
   "cell_type": "markdown",
   "id": "0fdeae05",
   "metadata": {},
   "source": [
    "- **Remarque** : La remove() méthode de la liste supprime uniquement la première occurrence de la valeur spécifiée."
   ]
  },
  {
   "cell_type": "markdown",
   "id": "ec393da3",
   "metadata": {},
   "source": [
    "<h3>Méthodes de tableau</h3>"
   ]
  },
  {
   "cell_type": "markdown",
   "id": "57bd85b1",
   "metadata": {},
   "source": [
    "\n",
    "- **append**() : Ajoute un élément en fin de liste<br>\n",
    "- **clear()** : Supprime tous les éléments de la listet<br>\n",
    "- **copy()** : Renvoie une copie de la liste<br>\n",
    "- **count()** : Renvoie le nombre d'éléments avec la valeur spécifiée<br>\n",
    "- **extend()** : Ajouter les éléments d'une liste (ou de tout itérable), à la fin de la liste actuelle<br>\n",
    "- **index()** : Renvoie l'indice du premier élément avec la valeur spécifiée<br>\n",
    "- **insert()** : Ajoute un élément à la position spécifiée<br>\n",
    "- **pop()** : Supprime l'élément à la position spécifiée<br>\n",
    "- **remove()** : Supprime le premier élément avec la valeur spécifiée<br>\n",
    "- **reverse()** : Inverse l'ordre de la liste<br>\n",
    "- **sort()** : Trie la liste<br>"
   ]
  },
  {
   "cell_type": "markdown",
   "id": "803c96f9",
   "metadata": {},
   "source": [
    "<h3> <font color=\"green\">Tableaux à 2 dimension </font></h3>"
   ]
  },
  {
   "cell_type": "markdown",
   "id": "828f02fa",
   "metadata": {},
   "source": [
    "- Pour declarer : **nom_tab = [[valeur ligne 1],[valeur ligne 2],......,[valeur ligne n]]**\n",
    "<h5><font color=\"green\"> Exemple</font></h5>"
   ]
  },
  {
   "cell_type": "code",
   "execution_count": 16,
   "id": "d6604ea9",
   "metadata": {},
   "outputs": [
    {
     "data": {
      "text/plain": [
       "[[1, 2, 3, 112], [0, 9, 2, 12], [0, 0, 1, 0]]"
      ]
     },
     "execution_count": 16,
     "metadata": {},
     "output_type": "execute_result"
    }
   ],
   "source": [
    "tab=[[1,2,3,112],[0,9,2,12],[0,0,1,0]]\n",
    "#print(tab[1][1])\n",
    "\n",
    "tab"
   ]
  },
  {
   "cell_type": "markdown",
   "id": "7b40092e",
   "metadata": {},
   "source": [
    "<h3>parcourir le Tableau :<h3> "
   ]
  },
  {
   "cell_type": "code",
   "execution_count": 4,
   "id": "8869c9e4",
   "metadata": {},
   "outputs": [
    {
     "name": "stdout",
     "output_type": "stream",
     "text": [
      "[1, 2, 3, 112]\n",
      "[0, 9, 2, 12]\n",
      "[0, 0, 1, 0]\n"
     ]
    }
   ],
   "source": [
    "for i in tab:\n",
    "  print(i)"
   ]
  },
  {
   "cell_type": "markdown",
   "id": "9b780ffb",
   "metadata": {},
   "source": [
    "<h3>reverser tableau :</h3>"
   ]
  },
  {
   "cell_type": "code",
   "execution_count": 23,
   "id": "7a94d1e2",
   "metadata": {},
   "outputs": [
    {
     "name": "stdout",
     "output_type": "stream",
     "text": [
      "[0, 0, 1, 0]\n",
      "[0, 9, 2, 12]\n",
      "[1, 2, 3, 112]\n"
     ]
    }
   ],
   "source": [
    "tab.reverse()\n",
    "for i in tab:\n",
    "  print(i)"
   ]
  },
  {
   "cell_type": "markdown",
   "id": "b62a723f",
   "metadata": {},
   "source": [
    "- **Remarque** : La mémé fonction rester valable pour tableaux a 2 dimension"
   ]
  },
  {
   "cell_type": "markdown",
   "id": "0ff9079a",
   "metadata": {},
   "source": [
    "<h2 ><font color=red> II- Array et Numpy </font></h2>"
   ]
  },
  {
   "cell_type": "markdown",
   "id": "6d2b31b8",
   "metadata": {},
   "source": [
    "<h3>importation de bibliothéque Numpy</h3>"
   ]
  },
  {
   "cell_type": "code",
   "execution_count": 25,
   "id": "58339c6d",
   "metadata": {},
   "outputs": [],
   "source": [
    "import numpy as np #np est un aleas qui fait référence à numpy. il est utiliseé pour simplifier la syntaxe par la suite."
   ]
  },
  {
   "cell_type": "markdown",
   "id": "5e2bfa76",
   "metadata": {},
   "source": [
    "<h5>1. Définition d'un array </h5>\n",
    "\n",
    "- Il existe généralement plusieurs manières de définir un tableau: à partir d'une liste, d'un tupel"
   ]
  },
  {
   "cell_type": "code",
   "execution_count": 32,
   "id": "ce15a20d",
   "metadata": {},
   "outputs": [
    {
     "name": "stdout",
     "output_type": "stream",
     "text": [
      "A=  [1 2 3 4]\n",
      "B=  [5 6 7 8]\n",
      "C=  [0 1 2 3 4 5 6 7 8]\n"
     ]
    }
   ],
   "source": [
    "import numpy as np\n",
    "#création d'un array à partir d'une liste \n",
    "A=np.array([1,2,3,4])\n",
    "print(\"A= \",A)\n",
    "#création d'un tableau à partir d'un tuple\n",
    "B=np.array((5,6,7,8))\n",
    "print(\"B= \",B)\n",
    "#création d'aun tableau en utilisant la fonction arange()\n",
    "C=np.arange(9)\n",
    "print(\"C= \",C)"
   ]
  },
  {
   "cell_type": "markdown",
   "id": "eb988d3d",
   "metadata": {},
   "source": [
    "- La fonction **arange()** crée une matrice (vecteur) d'une façon analogique à celle dont **range()** crée une liste, à une différence près que les coefficients ne sont pas forcément entiers."
   ]
  },
  {
   "cell_type": "code",
   "execution_count": 30,
   "id": "bf2a66fe",
   "metadata": {},
   "outputs": [
    {
     "name": "stdout",
     "output_type": "stream",
     "text": [
      "A=  [0.1 0.3 0.5 0.7]\n"
     ]
    }
   ],
   "source": [
    "import numpy as np\n",
    "A=np.arange(0.1,0.8,0.2)#crée un vecteur contanant des floats de 0.1 à 0.8 avec un pas de 0.2\n",
    "print(\"A= \",A)"
   ]
  },
  {
   "cell_type": "markdown",
   "id": "3d9f1164",
   "metadata": {},
   "source": [
    "![info.png](data:image/png;base64,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)La différence fondamentale entre un array à ue dimension et une liste et qu'un array est considéré comme un vecteur, ce qui va permettre de réaliser certain nombres d'opérations mathématiques. Par exemple:"
   ]
  },
  {
   "cell_type": "code",
   "execution_count": 31,
   "id": "1a704930",
   "metadata": {},
   "outputs": [
    {
     "name": "stdout",
     "output_type": "stream",
     "text": [
      "x=  [0, 1, 2, 3, 4]\n",
      "X*2=  [0, 1, 2, 3, 4, 0, 1, 2, 3, 4]\n",
      "A=  [0 1 2 3 4]\n",
      "A*2=  [0 2 4 6 8]\n",
      "A+2=  [2 3 4 5 6]\n",
      "X*2=  4\n"
     ]
    }
   ],
   "source": [
    "import numpy as np\n",
    "X=list(range(5))#crée une liste [0,1,2,3,4]\n",
    "print(\"x= \",X)\n",
    "print(\"X*2= \",X*2)# X n'est un vecteur alors X*2 ne permet pas de multiplier les éléments de liaste par 2!!!\n",
    "A=np.array(X)\n",
    "print(\"A= \",A)\n",
    "#A est un vecteur\n",
    "print(\"A*2= \",A*2)# A est un vecteur alors A*2 permet de multiplier les éléments de A par 2!!!\n",
    "print(\"A+2= \",A+2)# A est un vecteur alors A*2 permet de multiplier les éléments de A par 2!!!\n",
    "print(\"X*2= \",A[2]*2)# multiplication du troisième élément de l'array par 2!!!"
   ]
  },
  {
   "cell_type": "markdown",
   "id": "a91bbdbd",
   "metadata": {},
   "source": [
    "<h5>array à deux dimension</h5>\n",
    "Un array à deux dimension est un array de array. C'est-à-dire un array dont les éléments individuel sont des arrays. Par exemple:"
   ]
  },
  {
   "cell_type": "code",
   "execution_count": 33,
   "id": "b116f83c",
   "metadata": {},
   "outputs": [
    {
     "name": "stdout",
     "output_type": "stream",
     "text": [
      "A=  [[1 2 3]\n",
      " [4 5 6]]\n"
     ]
    }
   ],
   "source": [
    "#création d'un array à deux dimension\n",
    "import numpy as np\n",
    "A=np.array([[1,2,3],[4,5,6]])\n",
    "print(\"A= \",A)"
   ]
  },
  {
   "cell_type": "markdown",
   "id": "8609a249",
   "metadata": {},
   "source": [
    "## <font color=\"green\">2.  Indiçage d'un  array: Slicing</font>\n",
    "* **array à une dimension**\n"
   ]
  },
  {
   "cell_type": "code",
   "execution_count": 36,
   "id": "47ae823d",
   "metadata": {},
   "outputs": [
    {
     "name": "stdout",
     "output_type": "stream",
     "text": [
      "[10 12 14 16 18 20 22 24 26 28]\n"
     ]
    },
    {
     "data": {
      "text/plain": [
       "array([10, 14, 18, 22, 26])"
      ]
     },
     "execution_count": 36,
     "metadata": {},
     "output_type": "execute_result"
    }
   ],
   "source": [
    "#création d'un array à l'aide de la fonction arange()\n",
    "import numpy as np\n",
    "A=np.arange(10,30,2)\n",
    "print(A)# renvoie [10,12,14,16,18,20,22,24,26,28]\n",
    "A[0]# renvoie l'élément de l'indice 0 ==>10\n",
    "A[2]# renvoie l'élément de l'indice 1 ==>12\n",
    "A[6:]# renvoie tous les éléments à partir de l'élément  de l'indice 6 ==>[22,24,26,28]\n",
    "A[:6]# renvoie tous les éléments à partir de l'élément de l'indice 0 à l'élément de l'indice 5(indice 6 est exclus!)=> [10 12 14 16 18 20]\n",
    "A[:]#renvoie tous les éléments du array\n",
    "A[: :2]# renvoie tous les éléments avec un saut de 2 éléments à chaque fois=>[10 14 18 22 26]"
   ]
  },
  {
   "cell_type": "markdown",
   "id": "6625aefb",
   "metadata": {},
   "source": [
    "- **array à 2 dimension**"
   ]
  },
  {
   "cell_type": "code",
   "execution_count": 39,
   "id": "24b5a37d",
   "metadata": {},
   "outputs": [
    {
     "name": "stdout",
     "output_type": "stream",
     "text": [
      "[[ 1  2  3  4]\n",
      " [ 5  6  7  8]\n",
      " [ 9 10 11 12]]\n"
     ]
    },
    {
     "data": {
      "text/plain": [
       "12"
      ]
     },
     "execution_count": 39,
     "metadata": {},
     "output_type": "execute_result"
    }
   ],
   "source": [
    "import numpy as np\n",
    "#création d'un array de deux dimensions\n",
    "A=np.array([\n",
    "            [1,2,3,4],\n",
    "            [5,6,7,8],\n",
    "            [9,10,11,12]\n",
    "            ])\n",
    "print (A)#renvoie un array 3x4\n",
    "A[0,:]#renvoie tous les éléments de l'array qui a l'indice 0 dans les indices du second niveau (Première ligne)\n",
    "        #renvoie [1,2,3,4]\n",
    "A[:,0]#renvoie tous les éléments situés à l'indice 0 dans les arrays du second niveau (Première colonne)\n",
    "      #renvoie [1 5 9]\n",
    "A[2,3]#renvoie 12. Equivalent à A[2][3] pour langage C\n",
    "A[2,4]#renvoie Erreur=> IndexError: index 4 is out of bounds for axis 1 with size 4\n"
   ]
  },
  {
   "cell_type": "markdown",
   "id": "6b132c84",
   "metadata": {},
   "source": [
    "## <font color=\"green\">3.Opérations sur les arrays</font>\n",
    "Dans cette section nous allons voir quelques fonctions tres utilisées quand on traite les arrays avec Python, à savoir:\n",
    "* la fonction shape(): renvoie un tuple présentant le type de la matrice (Nbr ligne, Nbr colonnes).\n",
    "* la fonction **size()**: renvoie le nombre d'éléments\n",
    "* la fonction **reshape()**: transforme un array vecteur en matrice en endiquant en paramètres le nombre de lignes et de colonnes. Elle nécessite que la dimension de la matrice soit compatible avec le nombre d'éléments contenus dans l'array de départ.\n",
    "* la fonctions **resize()**: transforme un array vecteur en matrice en endiquant en paramètres le nombre de lignes et de colonnes. Elle ne nécessite pas que la dimension de la matrice soit compatible avec le nombre d'éléments contenus dans l'array de départ.\n",
    "* la fonction **transpose()**: renvoie la transposé d'un array.\n",
    "* la fonction **zeros()**: crée un array contenant que de zéros!\n",
    "* la fonction **ones()**:crée un array rempli que de 1!\n",
    "* la fonction **dot()**: le produit matriciel!\n",
    "* la fonction **linalg.inv(x)**:renvoie l'inverse de la matrice x \n",
    "* la fonction **linalg.det(x)**:renvoie le déterminant de la matrice x \n",
    "* la fonction **linalg.eig(x)**:renvoie un tuple dont le premier élément cerrespond aux valeurs propres et le second aux vecteur propres.\n",
    "* la fonction **argsort()**: renvoie sous forme d'une liste (ou array) les indices triés du l'array fourni en argument!\n",
    "* la fonction **np.where(array == val)** Pour rechercher un tableau\n",
    "* la fonction **np.add(arr1, arr2)** additionne le contenu de deux tableaux et renvoie les résultats dans un nouveau tableau\n",
    "* la fonction **np.subtract(arr1, arr2)** soustrait les valeurs d'un tableau avec les valeurs d'un autre tableau et renvoie les résultats dans un nouveau tableau.\n",
    "* la fonction **np.multiply(arr1, arr2)** multiplie les valeurs d'un tableau avec les valeurs d'un autre tableau et renvoie les résultats dans un nouveau tableau.\n",
    "* la fonction **np.divide(arr1, arr2)** divise les valeurs d'un tableau avec les valeurs d'un autre tableau et renvoie les résultats dans un nouveau tableau\n"
   ]
  },
  {
   "cell_type": "markdown",
   "id": "5ebba47a",
   "metadata": {},
   "source": [
    "#### <font color=\"green\">Exemple : </font>\n",
    "soit 2 tableau suivant : "
   ]
  },
  {
   "cell_type": "code",
   "execution_count": 3,
   "id": "771b5ae1",
   "metadata": {},
   "outputs": [
    {
     "name": "stdout",
     "output_type": "stream",
     "text": [
      "A = [[1 2]\n",
      " [3 4]\n",
      " [5 6]]\n",
      "dimensions de A: (3, 2)\n",
      "B = [[1 3 5]\n",
      " [2 4 6]]\n",
      "dimensions de B : (2, 3)\n",
      "C = [[1. 1.]\n",
      " [1. 1.]\n",
      " [1. 1.]]\n",
      "dimensions de C: (3, 2)\n",
      "E = [[ 5 11 17]\n",
      " [11 25 39]\n",
      " [17 39 61]]\n",
      "dimensions de E: (3, 3)\n"
     ]
    }
   ],
   "source": [
    "import numpy as np\n",
    " \n",
    "# Création d'une matrice (3, 2)\n",
    "A = np.array([[1, 2], [3, 4], [5, 6]])\n",
    "print('A =', A) # afficher la matrice A\n",
    " \n",
    "# afficher les dimensions de A\n",
    "print('dimensions de A:', A.shape)\n",
    " \n",
    "# Transposée de A\n",
    "B = A.T\n",
    "print('B =',B)\n",
    "print('dimensions de B :', B.shape)\n",
    " \n",
    " \n",
    "# Création d'une matrice B remplie de \"1\"\n",
    "C = np.ones((3, 2))\n",
    " \n",
    "# addition de A par B\n",
    "D = A + C\n",
    "print('C =', C)\n",
    "print('dimensions de C:', C.shape)\n",
    " \n",
    " \n",
    "# mutiplication de A (3, 2) par B (2, 3)\n",
    " \n",
    "E = A.dot(B)\n",
    "print('E =', E)\n",
    "print('dimensions de E:',E.shape)"
   ]
  },
  {
   "cell_type": "code",
   "execution_count": null,
   "id": "2abf8f9b",
   "metadata": {},
   "outputs": [],
   "source": []
  }
 ],
 "metadata": {
  "kernelspec": {
   "display_name": "Python 3 (ipykernel)",
   "language": "python",
   "name": "python3"
  },
  "language_info": {
   "codemirror_mode": {
    "name": "ipython",
    "version": 3
   },
   "file_extension": ".py",
   "mimetype": "text/x-python",
   "name": "python",
   "nbconvert_exporter": "python",
   "pygments_lexer": "ipython3",
   "version": "3.9.7"
  }
 },
 "nbformat": 4,
 "nbformat_minor": 5
}
