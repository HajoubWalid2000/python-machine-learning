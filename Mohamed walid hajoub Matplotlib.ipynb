{
 "cells": [
  {
   "cell_type": "markdown",
   "id": "27b131d5",
   "metadata": {},
   "source": [
    "<img src=\"pp.png\" align =\"center\" width=\"900\" height=\"600\" /><br>\n",
    "<h1 align =\"center\" style = \"color:blue\"> Les graphiques avec Matplotlib </h1>"
   ]
  },
  {
   "cell_type": "markdown",
   "id": "2066f1d6",
   "metadata": {},
   "source": [
    "<h1 style = \"color:blue\"> Qu'est-ce que Matplotlib ? </h1>\n",
    "\n",
    "- Matplotlib est une bibliothèque de traçage de graphes de bas niveau en python qui sert d'utilitaire de visualisation.\n",
    "- Matplotlib a été créé par John D. Hunter.\n",
    "- Matplotlib est open source et nous pouvons l'utiliser librement.\n",
    "- Matplotlib est principalement écrit en python, quelques segments sont écrits en C, Objective-C et Javascript pour la compatibilité de la plate-forme.\n",
    "\n"
   ]
  },
  {
   "cell_type": "markdown",
   "id": "2b6d1088",
   "metadata": {},
   "source": [
    "<h1 style = \"color:blue\"> Installation de Matplotlib </h1>\n",
    "\n",
    "- Si Python et PIP sont déjà installés sur un système, l'installation de Matplotlib est très simple.\n",
    "- Installez-le à l'aide de cette commande :\n",
    "- **pip install matplotlib**"
   ]
  },
  {
   "cell_type": "markdown",
   "id": "7ec030e9",
   "metadata": {},
   "source": [
    "<h1 style = \"color:blue\">Importer Matplotlib</h1>\n",
    "\n",
    "- Une fois Matplotlib installé, importez-le dans vos applications en ajoutant la déclaration :import module"
   ]
  },
  {
   "cell_type": "code",
   "execution_count": 36,
   "id": "918314af",
   "metadata": {},
   "outputs": [
    {
     "name": "stdout",
     "output_type": "stream",
     "text": [
      "3.4.3\n"
     ]
    }
   ],
   "source": [
    "import matplotlib\n",
    "print(matplotlib.__version__) #afficher version"
   ]
  },
  {
   "cell_type": "markdown",
   "id": "31dc8008",
   "metadata": {},
   "source": [
    "<h1 style = \"color:blue\">Pyplot</h1>\n",
    "\n",
    "- La plupart des utilitaires Matplotlib se trouvent sous le sous- **pyplot** module et sont généralement importés sous l' plt alias :"
   ]
  },
  {
   "cell_type": "code",
   "execution_count": 37,
   "id": "84033efa",
   "metadata": {},
   "outputs": [
    {
     "data": {
      "image/png": "[encoded data removed]",
      "text/plain": [
       "<Figure size 432x288 with 1 Axes>"
      ]
     },
     "metadata": {
      "needs_background": "light"
     },
     "output_type": "display_data"
    }
   ],
   "source": [
    "import matplotlib.pyplot as plt\n",
    "#Désormais, le package Pyplot peut être appelé plt.\n",
    "\n",
    "#Exemple : \n",
    "\n",
    "import numpy as np\n",
    "\n",
    "xpoints = np.array([0, 6])\n",
    "ypoints = np.array([0, 250])\n",
    "\n",
    "plt.plot(xpoints, ypoints)\n",
    "plt.title('Mom titre')  # Ajout d'un titre\n",
    "plt.xlabel('x')         # Nom ou titre de la grandeur en abscisse\n",
    "plt.ylabel('y')         # Nom ou titre  de la grandeur en ordonnée\n",
    "plt.grid()              # Ajout d'une grille\n",
    "plt.show()              # Affichage\n"
   ]
  },
  {
   "cell_type": "markdown",
   "id": "524b107c",
   "metadata": {},
   "source": [
    "<h1 style = \"color:blue\">Marqueurs</h1>\n",
    "Vous pouvez utiliser l'argument mot-clé markerpour souligner chaque point avec un marqueur spécifié :"
   ]
  },
  {
   "cell_type": "code",
   "execution_count": 38,
   "id": "e1b16973",
   "metadata": {},
   "outputs": [
    {
     "data": {
      "image/png": "[encoded data removed]",
      "text/plain": [
       "<Figure size 432x288 with 1 Axes>"
      ]
     },
     "metadata": {
      "needs_background": "light"
     },
     "output_type": "display_data"
    }
   ],
   "source": [
    "import matplotlib.pyplot as plt\n",
    "import numpy as np\n",
    "\n",
    "ypoints = np.array([3, 8, 1, 10])\n",
    "\n",
    "plt.plot(ypoints, marker = 'o')\n",
    "\n",
    "#plt.plot(ypoints, marker = '*') Marquez chaque point d'une étoile \n",
    "plt.show()"
   ]
  },
  {
   "cell_type": "markdown",
   "id": "576dcb9d",
   "metadata": {},
   "source": [
    "<h1 style = \"color:blue\">Marqueur de référence:</h1>\n",
    "Vous pouvez choisir l'un de ces marqueurs :\n",
    "\n",
    "'o'\tCircle\t\n",
    "'*'\tStar\t\n",
    "'.'\tPoint\t\n",
    "','\tPixel\t\n",
    "'x'\tX\t\n",
    "'X'\tX (filled)\t\n",
    "'+'\tPlus\t\n",
    "'P'\tPlus (filled)\t\n",
    "'s'\tSquare\t\n",
    "'D'\tDiamond\t\n",
    "'d'\tDiamond (thin)\t\n",
    "'p'\tPentagon\t\n",
    "'H'\tHexagon\t\n",
    "'h'\tHexagon\t\n",
    "'v'\tTriangle Down\t\n",
    "'^'\tTriangle Up\t\n",
    "'<'\tTriangle Left\t\n",
    "'>'\tTriangle Right\t\n",
    "'1'\tTri Down\t\n",
    "'2'\tTri Up\t\n",
    "'3'\tTri Left\t\n",
    "'4'\tTri Right\t\n",
    "'|'\tVline\t\n",
    "'_'\tHline"
   ]
  },
  {
   "cell_type": "markdown",
   "id": "d33c2460",
   "metadata": {},
   "source": [
    "<h1 style = \"color:blue\"> Formater les chaînes fmt</h1>\n",
    "Vous pouvez également utiliser le paramètre de notation de chaîne de raccourci pour spécifier le marqueur.\n",
    "\n",
    "- Ce paramètre est également appelé fmt, et s'écrit avec cette syntaxe :\n",
    "- **marker|line|color**"
   ]
  },
  {
   "cell_type": "markdown",
   "id": "9c8e97af",
   "metadata": {},
   "source": [
    "**Référence de ligne**\n",
    "<br>\n",
    "'-'\t         Solid line\t\n",
    "':'\t         Dotted line\t\n",
    "'--'\t     Dashed line\t\n",
    "'-.'\t     Dashed/dotted line<br>\n",
    "**Référence de couleur**<br>\n",
    "'r'\tRed\t\n",
    "'g'\tGreen\t\n",
    "'b'\tBlue\t\n",
    "'c'\tCyan\t\n",
    "'m'\tMagenta\t\n",
    "'y'\tYellow\t\n",
    "'k'\tBlack\t\n",
    "'w'\tWhite"
   ]
  },
  {
   "cell_type": "markdown",
   "id": "283fc106",
   "metadata": {},
   "source": [
    "<h1 style = \"color:blue\">Taille du marqueur</h1>\n",
    "\n",
    "- Vous pouvez utiliser l'argument mot-clé **markersize** ou la version plus courte **ms** pour définir la taille des marqueurs<br>\n",
    "\n",
    "**Couleur du marqueur**<br>\n",
    "\n",
    " - Vous pouvez utiliser l'argument mot-clé markeredgecolor ou le plus court mec pour définir la couleur du bord des marqueurs<br>\n",
    "Vous pouvez utiliser l'argument mot-clé **markerfacecolor** ou le plus court **mf**c pour définir la couleur à l'intérieur du bord des marqueurs :\n"
   ]
  },
  {
   "cell_type": "code",
   "execution_count": 39,
   "id": "41e2f660",
   "metadata": {},
   "outputs": [
    {
     "data": {
      "image/png": "[encoded data removed]",
      "text/plain": [
       "<Figure size 432x288 with 1 Axes>"
      ]
     },
     "metadata": {
      "needs_background": "light"
     },
     "output_type": "display_data"
    }
   ],
   "source": [
    "\n",
    "ypoints = np.array([3, 8, 1, 10])\n",
    "\n",
    "plt.plot(ypoints, marker = 'o', ms = 20,mec='r',mfc='g')\n",
    "plt.show()"
   ]
  },
  {
   "cell_type": "markdown",
   "id": "5575970f",
   "metadata": {},
   "source": [
    "<h1 style = \"color:blue\">Mise en forme de ligne</h1>\n",
    "\n",
    "Vous pouvez utiliser le mot-clé argument **linestyle**, ou short **ls**, pour modifier le style de la ligne tracée :"
   ]
  },
  {
   "cell_type": "markdown",
   "id": "29155d30",
   "metadata": {},
   "source": [
    "**'solid' (default)\t'-'\t\n",
    "'dotted'\t':'\t\n",
    "'dashed'\t'--'\t\n",
    "'dashdot'\t'-.'\t\n",
    "'None'\t'' or ' '**\n"
   ]
  },
  {
   "cell_type": "markdown",
   "id": "49b06da5",
   "metadata": {},
   "source": [
    "**Couleur de la ligne**\n",
    "Vous pouvez utiliser l'argument mot clé **color** ou le plus court **c** pour définir la couleur de la ligne :<br>\n",
    "**Largeur de ligne**\n",
    "Vous pouvez utiliser l'argument mot-clé **linewidth** ou le plus court **lw** pour modifier la largeur de la ligne."
   ]
  },
  {
   "cell_type": "code",
   "execution_count": 40,
   "id": "d8a8eb57",
   "metadata": {},
   "outputs": [
    {
     "data": {
      "text/plain": [
       "[<matplotlib.lines.Line2D at 0x1f7f3fa5640>]"
      ]
     },
     "execution_count": 40,
     "metadata": {},
     "output_type": "execute_result"
    },
    {
     "data": {
      "image/png": "[encoded data removed]",
      "text/plain": [
       "<Figure size 432x288 with 1 Axes>"
      ]
     },
     "metadata": {
      "needs_background": "light"
     },
     "output_type": "display_data"
    }
   ],
   "source": [
    "ypoints = np.array([3, 8, 1, 10])\n",
    "\n",
    "plt.plot(ypoints, c='b',ls=':',linewidth = '6.5')"
   ]
  },
  {
   "cell_type": "markdown",
   "id": "dd509010",
   "metadata": {},
   "source": [
    "<h1 style = \"color:blue\">Sous-parcelle Matplotlib</h1>\n",
    "\n",
    "- Avec la subplot( )fonction, vous pouvez dessiner plusieurs tracés dans une figure :"
   ]
  },
  {
   "cell_type": "code",
   "execution_count": 41,
   "id": "00b4e4c5",
   "metadata": {},
   "outputs": [
    {
     "data": {
      "image/png": "[encoded data removed]",
      "text/plain": [
       "<Figure size 432x288 with 2 Axes>"
      ]
     },
     "metadata": {
      "needs_background": "light"
     },
     "output_type": "display_data"
    }
   ],
   "source": [
    "#plot 1:\n",
    "x = np.array([0, 1, 2, 3])\n",
    "y = np.array([3, 8, 1, 10])\n",
    "\n",
    "plt.subplot(1, 2, 1)\n",
    "plt.plot(x,y)\n",
    "\n",
    "#plot 2:\n",
    "x = np.array([0, 1, 2, 3])\n",
    "y = np.array([10, 20, 30, 40])\n",
    "\n",
    "plt.subplot(1, 2, 2)\n",
    "plt.plot(x,y)\n",
    "\n",
    "plt.show()"
   ]
  },
  {
   "cell_type": "markdown",
   "id": "c80cc26b",
   "metadata": {},
   "source": [
    "- La subplot()fonction prend trois arguments qui décrivent la disposition de la figure.\n",
    "\n",
    "- La mise en page est organisée en lignes et en colonnes, qui sont représentées par le premier et le deuxième argument.\n",
    "\n",
    "- Le troisième argument représente l'index du tracé courant."
   ]
  },
  {
   "cell_type": "code",
   "execution_count": 42,
   "id": "e1b030d6",
   "metadata": {},
   "outputs": [
    {
     "data": {
      "text/plain": [
       "<AxesSubplot:>"
      ]
     },
     "execution_count": 42,
     "metadata": {},
     "output_type": "execute_result"
    },
    {
     "data": {
      "image/png": "[encoded data removed]",
      "text/plain": [
       "<Figure size 432x288 with 2 Axes>"
      ]
     },
     "metadata": {
      "needs_background": "light"
     },
     "output_type": "display_data"
    }
   ],
   "source": [
    "plt.subplot(1, 2, 1)\n",
    "#the figure has 1 row, 2 columns, and this plot is the first plot.\n",
    "\n",
    "plt.subplot(1, 2, 2)\n",
    "#the figure has 1 row, 2 columns, and this plot is the second plot."
   ]
  },
  {
   "cell_type": "markdown",
   "id": "35b7346c",
   "metadata": {},
   "source": [
    "<h1 style = \"color:blue\">Matplotlib Scatter</h1>"
   ]
  },
  {
   "cell_type": "markdown",
   "id": "9663ee6a",
   "metadata": {},
   "source": [
    "**Création de nuages ​​ de points**\n",
    "\n",
    "Avec Pyplot, vous pouvez utiliser la scatter()fonction pour dessiner un nuage de points.\n",
    "\n",
    "La scatter()fonction trace un point pour chaque observation. Il a besoin de deux tableaux de même longueur, un pour les valeurs de l'axe des x et un pour les valeurs de l'axe des y :"
   ]
  },
  {
   "cell_type": "code",
   "execution_count": 43,
   "id": "b8ef53fc",
   "metadata": {},
   "outputs": [
    {
     "data": {
      "image/png": "[encoded data removed]",
      "text/plain": [
       "<Figure size 432x288 with 1 Axes>"
      ]
     },
     "metadata": {
      "needs_background": "light"
     },
     "output_type": "display_data"
    }
   ],
   "source": [
    "x = np.array([5,7,8,7,2,17,2,9,4,11,12,9,6])\n",
    "y = np.array([99,86,87,88,111,86,103,87,94,78,77,85,86])\n",
    "\n",
    "plt.scatter(x, y)\n",
    "plt.show()"
   ]
  },
  {
   "cell_type": "markdown",
   "id": "489d5a81",
   "metadata": {},
   "source": [
    "L'observation dans l'exemple ci-dessus est le résultat du passage de 13 voitures.\n",
    "\n",
    "L'axe X indique l'âge de la voiture.\n",
    "\n",
    "L'axe Y indique la vitesse de la voiture lors de son passage.\n",
    "\n",
    "Existe-t-il des relations entre les observations ?\n",
    "\n",
    "Il semble que plus la voiture est récente, plus elle roule vite, mais cela pourrait être une coïncidence, après tout, nous n'avons enregistré que 13 voitures.\n",
    "\n",
    "**Comparer les parcelles**<br>\n",
    "\n",
    "Dans l'exemple ci-dessus, il semble y avoir une relation entre la vitesse et l'âge, mais que se passe-t-il si nous traçons également les observations d'un autre jour ? Le nuage de points nous dira-t-il autre chose ?"
   ]
  },
  {
   "cell_type": "code",
   "execution_count": 44,
   "id": "beeb07fd",
   "metadata": {},
   "outputs": [
    {
     "data": {
      "image/png": "[encoded data removed]",
      "text/plain": [
       "<Figure size 432x288 with 1 Axes>"
      ]
     },
     "metadata": {
      "needs_background": "light"
     },
     "output_type": "display_data"
    }
   ],
   "source": [
    "\n",
    "\n",
    "#day one, the age and speed of 13 cars:\n",
    "x = np.array([5,7,8,7,2,17,2,9,4,11,12,9,6])\n",
    "y = np.array([99,86,87,88,111,86,103,87,94,78,77,85,86])\n",
    "plt.scatter(x, y)\n",
    "\n",
    "#day two, the age and speed of 15 cars:\n",
    "x = np.array([2,2,8,1,15,8,12,9,7,3,11,4,7,14,12])\n",
    "y = np.array([100,105,84,105,90,99,90,95,94,100,79,112,91,80,85])\n",
    "plt.scatter(x, y)\n",
    "\n",
    "plt.show()"
   ]
  },
  {
   "cell_type": "markdown",
   "id": "388293ae",
   "metadata": {},
   "source": [
    "**Remarque :** Les deux tracés sont tracés avec deux couleurs différentes, par défaut bleu et orange, vous apprendrez comment changer les couleurs plus loin dans ce chapitre.\n",
    "\n",
    "En comparant les deux tracés, je pense qu'il est prudent de dire qu'ils nous donnent tous les deux la même conclusion : plus la voiture est récente, plus elle roule vite"
   ]
  },
  {
   "cell_type": "markdown",
   "id": "850bfb36",
   "metadata": {},
   "source": [
    "**Couleurs :** Vous pouvez définir votre propre couleur pour chaque nuage de points avec l' argument color ou :c"
   ]
  },
  {
   "cell_type": "code",
   "execution_count": 45,
   "id": "917ba662",
   "metadata": {},
   "outputs": [
    {
     "data": {
      "text/plain": [
       "<matplotlib.collections.PathCollection at 0x1f7f40e1670>"
      ]
     },
     "execution_count": 45,
     "metadata": {},
     "output_type": "execute_result"
    },
    {
     "data": {
      "image/png": "[encoded data removed]",
      "text/plain": [
       "<Figure size 432x288 with 1 Axes>"
      ]
     },
     "metadata": {
      "needs_background": "light"
     },
     "output_type": "display_data"
    }
   ],
   "source": [
    "x = np.array([5,7,8,7,2,17,2,9,4,11,12,9,6])\n",
    "y = np.array([99,86,87,88,111,86,103,87,94,78,77,85,86])\n",
    "plt.scatter(x, y, color = 'hotpink')"
   ]
  },
  {
   "cell_type": "markdown",
   "id": "5c989956",
   "metadata": {},
   "source": [
    "**Colorier chaque point :** Vous pouvez même définir une couleur spécifique pour chaque point en utilisant un tableau de couleurs comme valeur pour l' c argument :\n",
    "\n",
    "**Remarque :** Vous ne pouvez pas utiliser l' colorargument pour cela, uniquement l' cargument."
   ]
  },
  {
   "cell_type": "code",
   "execution_count": 46,
   "id": "1d77d207",
   "metadata": {},
   "outputs": [
    {
     "data": {
      "image/png": "[encoded data removed]",
      "text/plain": [
       "<Figure size 432x288 with 1 Axes>"
      ]
     },
     "metadata": {
      "needs_background": "light"
     },
     "output_type": "display_data"
    }
   ],
   "source": [
    "x = np.array([5,7,8,7,2,17,2,9,4,11,12,9,6])\n",
    "y = np.array([99,86,87,88,111,86,103,87,94,78,77,85,86])\n",
    "colors = np.array([\"red\",\"green\",\"blue\",\"yellow\",\"pink\",\"black\",\"orange\",\"purple\",\"beige\",\"brown\",\"gray\",\"cyan\",\"magenta\"])\n",
    "\n",
    "plt.scatter(x, y, c=colors)\n",
    "\n",
    "plt.show()"
   ]
  },
  {
   "cell_type": "markdown",
   "id": "bbd1a1e2",
   "metadata": {},
   "source": [
    "<h1 style = \"color:blue\">ColorMap</h1>\n",
    "Le module Matplotlib a un certain nombre de palettes de couleurs disponibles.\n",
    "\n",
    "Une palette de couleurs est comme une liste de couleurs, où chaque couleur a une valeur comprise entre 0 et 100.\n",
    "\n",
    "Cette palette de couleurs s'appelle 'viridis' et comme vous pouvez le voir, elle va de 0, qui est une couleur violette, et jusqu'à 100, qui est une couleur jaune.\n",
    "\n",
    "Comment utiliser la carte des couleurs\n",
    "Vous pouvez spécifier la palette de couleurs avec l'argument mot-clé cmapavec la valeur de la palette de couleurs, dans ce cas, 'viridis'qui est l'une des palettes de couleurs intégrées disponibles dans Matplotlib.\n",
    "\n",
    "De plus, vous devez créer un tableau avec des valeurs (de 0 à 100), une valeur pour chacun des points du nuage de points :"
   ]
  },
  {
   "cell_type": "code",
   "execution_count": 47,
   "id": "c7d07624",
   "metadata": {},
   "outputs": [
    {
     "data": {
      "image/png": "[encoded data removed]",
      "text/plain": [
       "<Figure size 432x288 with 1 Axes>"
      ]
     },
     "metadata": {
      "needs_background": "light"
     },
     "output_type": "display_data"
    }
   ],
   "source": [
    "x = np.array([5,7,8,7,2,17,2,9,4,11,12,9,6])\n",
    "y = np.array([99,86,87,88,111,86,103,87,94,78,77,85,86])\n",
    "colors = np.array([0, 10, 20, 30, 40, 45, 50, 55, 60, 70, 80, 90, 100])\n",
    "\n",
    "plt.scatter(x, y, c=colors, cmap='viridis')\n",
    "\n",
    "plt.show()"
   ]
  },
  {
   "cell_type": "markdown",
   "id": "1e18436b",
   "metadata": {},
   "source": [
    "<h1 style = \"color:blue\">Taille</h1>\n",
    "\n",
    "Vous pouvez changer la taille des points avec l' **s** argument.\n",
    "\n",
    "Tout comme les couleurs, assurez-vous que le tableau des tailles a la même longueur que les tableaux des axes x et y :"
   ]
  },
  {
   "cell_type": "code",
   "execution_count": 48,
   "id": "d451a6fe",
   "metadata": {},
   "outputs": [
    {
     "data": {
      "image/png": "[encoded data removed]",
      "text/plain": [
       "<Figure size 432x288 with 1 Axes>"
      ]
     },
     "metadata": {
      "needs_background": "light"
     },
     "output_type": "display_data"
    }
   ],
   "source": [
    "import matplotlib.pyplot as plt\n",
    "import numpy as np\n",
    "\n",
    "x = np.array([5,7,8,7,2,17,2,9,4,11,12,9,6])\n",
    "y = np.array([99,86,87,88,111,86,103,87,94,78,77,85,86])\n",
    "sizes = np.array([20,50,100,200,500,1000,60,90,10,300,600,800,75])\n",
    "\n",
    "plt.scatter(x, y, s=sizes)\n",
    "\n",
    "plt.show()"
   ]
  },
  {
   "cell_type": "markdown",
   "id": "09a4444d",
   "metadata": {},
   "source": [
    "<h1 style = \"color:blue\">Création de barres</h1>\n",
    "\n",
    "- Avec Pyplot, vous pouvez utiliser la bar()fonction pour dessiner des graphiques à barres :"
   ]
  },
  {
   "cell_type": "code",
   "execution_count": 49,
   "id": "87833747",
   "metadata": {},
   "outputs": [
    {
     "data": {
      "image/png": "[encoded data removed]",
      "text/plain": [
       "<Figure size 432x288 with 1 Axes>"
      ]
     },
     "metadata": {
      "needs_background": "light"
     },
     "output_type": "display_data"
    }
   ],
   "source": [
    "x = np.array([\"A\", \"B\", \"C\", \"D\"])\n",
    "y = np.array([3, 8, 1, 10])\n",
    "\n",
    "plt.bar(x,y)\n",
    "plt.show()"
   ]
  },
  {
   "cell_type": "code",
   "execution_count": 50,
   "id": "629b2b8a",
   "metadata": {},
   "outputs": [
    {
     "data": {
      "image/png": "[encoded data removed]",
      "text/plain": [
       "<Figure size 432x288 with 1 Axes>"
      ]
     },
     "metadata": {
      "needs_background": "light"
     },
     "output_type": "display_data"
    }
   ],
   "source": [
    "x = np.array([\"A\", \"B\", \"C\", \"D\"])\n",
    "y = np.array([3, 8, 1, 10])\n",
    "\n",
    "plt.barh(x, y)# horizantale\n",
    "plt.show()"
   ]
  },
  {
   "cell_type": "code",
   "execution_count": 51,
   "id": "177e7e5c",
   "metadata": {},
   "outputs": [
    {
     "data": {
      "image/png": "[encoded data removed]",
      "text/plain": [
       "<Figure size 432x288 with 1 Axes>"
      ]
     },
     "metadata": {
      "needs_background": "light"
     },
     "output_type": "display_data"
    }
   ],
   "source": [
    "x = np.array([\"A\", \"B\", \"C\", \"D\"])\n",
    "y = np.array([3, 8, 1, 10])\n",
    "\n",
    "plt.bar(x,y,color='r',width=0.1) # Color et largeur\n",
    "plt.show()"
   ]
  },
  {
   "cell_type": "markdown",
   "id": "e2979e69",
   "metadata": {},
   "source": [
    "<h1 style = \"color:blue\">Graphiques à secteurs Matplotlib</h1>\n",
    "\n",
    "- **Création de graphiques à secteurs**\n",
    "\n",
    "Avec Pyplot, vous pouvez utiliser la pie()fonction pour dessiner des camemberts :"
   ]
  },
  {
   "cell_type": "code",
   "execution_count": 52,
   "id": "c9f7ea8c",
   "metadata": {},
   "outputs": [
    {
     "data": {
      "image/png": "[encoded data removed]",
      "text/plain": [
       "<Figure size 432x288 with 1 Axes>"
      ]
     },
     "metadata": {},
     "output_type": "display_data"
    }
   ],
   "source": [
    "y = np.array([35, 25, 25, 15])\n",
    "mylabels = [\"Apples\", \"Bananas\", \"Cherries\", \"Dates\"]\n",
    "\n",
    "plt.pie(y, labels = mylabels)\n",
    "plt.legend(title = \"Four Fruits:\")# information\n",
    "plt.show()"
   ]
  },
  {
   "cell_type": "markdown",
   "id": "b6099981",
   "metadata": {},
   "source": [
    "**Angle de départ**\n",
    "Comme mentionné, l'angle de départ par défaut est sur l'axe des x, mais vous pouvez modifier l'angle de départ en spécifiant un **startangle** paramètre.\n",
    "\n",
    "Le startangleparamètre est défini avec un angle en degrés, l'angle par défaut est 0 :"
   ]
  },
  {
   "cell_type": "code",
   "execution_count": null,
   "id": "f5c3fb7c",
   "metadata": {},
   "outputs": [],
   "source": []
  },
  {
   "cell_type": "code",
   "execution_count": null,
   "id": "308fae21",
   "metadata": {},
   "outputs": [],
   "source": []
  },
  {
   "cell_type": "code",
   "execution_count": null,
   "id": "d6030a62",
   "metadata": {},
   "outputs": [],
   "source": []
  },
  {
   "cell_type": "code",
   "execution_count": null,
   "id": "6fd036dd",
   "metadata": {},
   "outputs": [],
   "source": []
  },
  {
   "cell_type": "code",
   "execution_count": null,
   "id": "2c738c28",
   "metadata": {},
   "outputs": [],
   "source": []
  }
 ],
 "metadata": {
  "kernelspec": {
   "display_name": "Python 3 (ipykernel)",
   "language": "python",
   "name": "python3"
  },
  "language_info": {
   "codemirror_mode": {
    "name": "ipython",
    "version": 3
   },
   "file_extension": ".py",
   "mimetype": "text/x-python",
   "name": "python",
   "nbconvert_exporter": "python",
   "pygments_lexer": "ipython3",
   "version": "3.9.7"
  }
 },
 "nbformat": 4,
 "nbformat_minor": 5
}
