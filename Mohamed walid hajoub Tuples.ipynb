{
 "cells": [
  {
   "cell_type": "markdown",
   "metadata": {},
   "source": [
    "<img src=\"pp.png\" align =\"center\" width=\"900\" height=\"600\" /><br>\n",
    "<h1 align =\"center\" style = \"color:blue\"> Tuple </h1>"
   ]
  },
  {
   "cell_type": "markdown",
   "metadata": {
    "id": "-71gEIvP0vtq"
   },
   "source": [
    "## <font color=red> Objet Tuple</font>\n",
    "Un objet **Tuple** est une séquence de valeur (numérique et/ou alphanumérique) dont les éléments sont indiqués entre paranthèse et séparés par des virgules.\n",
    "<p>\n",
    "A la **différence des listes**,les éléments d'un tuple ne peuvent pas être modifiés, cependant il est possible d'extraires ces éléments pour en créer d'autres objets"
   ]
  },
  {
   "cell_type": "markdown",
   "metadata": {
    "id": "Av-ZgMQ_15YS"
   },
   "source": [
    "## <font color=red> Créer un Objet Tuple</font>"
   ]
  },
  {
   "cell_type": "code",
   "execution_count": null,
   "metadata": {
    "id": "ti284ERFz7AO"
   },
   "outputs": [],
   "source": [
    "#créer un tuple\n",
    "t1=(1,2,3,4)\n",
    "t2=(\"ilham\",12,20.0,\"Laundi\")\n",
    "t3=tuple(range(10))\n",
    "t4=1,2,3,4\n",
    "t5=(12,)\n",
    "t6=tuple()"
   ]
  },
  {
   "cell_type": "markdown",
   "metadata": {},
   "source": [
    "## <font color=red> Autoriser les doublons</font>\n",
    "\n",
    "Puisque les tuples sont indexés, ils peuvent avoir des éléments avec la même valeur :"
   ]
  },
  {
   "cell_type": "code",
   "execution_count": 5,
   "metadata": {},
   "outputs": [
    {
     "name": "stdout",
     "output_type": "stream",
     "text": [
      "('apple', 'banana', 'cherry', 'apple', 'cherry')\n"
     ]
    }
   ],
   "source": [
    "this_tuple = (\"apple\", \"banana\", \"cherry\", \"apple\", \"cherry\")\n",
    "print(this_tuple)"
   ]
  },
  {
   "cell_type": "markdown",
   "metadata": {},
   "source": [
    "## <font color=red> Longueur de tuple</font>\n",
    "Pour déterminer le nombre d'éléments d'un tuple, utilisez la len()fonction"
   ]
  },
  {
   "cell_type": "code",
   "execution_count": 6,
   "metadata": {},
   "outputs": [
    {
     "name": "stdout",
     "output_type": "stream",
     "text": [
      "5\n"
     ]
    }
   ],
   "source": [
    "print(len(this_tuple))"
   ]
  },
  {
   "cell_type": "markdown",
   "metadata": {},
   "source": [
    "## <font color=red>Créer un tuple avec un élément</font>\n",
    "Pour créer un tuple avec un seul élément, vous devez ajouter une virgule après l'élément, sinon Python ne le reconnaîtra pas comme un tuple.\n",
    "\n",
    "- Un tuple d'élément, rappelez-vous la virgule :"
   ]
  },
  {
   "cell_type": "code",
   "execution_count": 7,
   "metadata": {},
   "outputs": [
    {
     "name": "stdout",
     "output_type": "stream",
     "text": [
      "<class 'tuple'>\n",
      "<class 'str'>\n"
     ]
    }
   ],
   "source": [
    "thistuple = (\"apple\",)\n",
    "print(type(thistuple))\n",
    "\n",
    "#NOT a tuple\n",
    "thistuple = (\"apple\")\n",
    "print(type(thistuple))"
   ]
  },
  {
   "cell_type": "markdown",
   "metadata": {
    "id": "cShaaXTj2GxW"
   },
   "source": [
    "## <font color=red> Indiçage des tuples</font>\n"
   ]
  },
  {
   "cell_type": "code",
   "execution_count": null,
   "metadata": {
    "id": "gMmIXg3r2I8K"
   },
   "outputs": [],
   "source": [
    "T=tuple(range(1,9))\n",
    "T[0]#renvoie le premoier élément du tuple (1)\n",
    "T[-1]##renvoie le premier élément du tuple (8)\n",
    "T[:]#renvoie tous les éléments du tuple\n",
    "T[:4]#renvoie tous les élments à partir de l'indice 0 à 3 (indice 4 est exclus)\n",
    "T[4:6]# renvoie les éléments ayant les indices de 4 à 5 (6 est exclus)"
   ]
  }
 ],
 "metadata": {
  "colab": {
   "authorship_tag": "ABX9TyP28uSxQAMdPRsUG7FHOcuH",
   "name": "Tuples.ipynb",
   "provenance": []
  },
  "kernelspec": {
   "display_name": "Python 3 (ipykernel)",
   "language": "python",
   "name": "python3"
  },
  "language_info": {
   "codemirror_mode": {
    "name": "ipython",
    "version": 3
   },
   "file_extension": ".py",
   "mimetype": "text/x-python",
   "name": "python",
   "nbconvert_exporter": "python",
   "pygments_lexer": "ipython3",
   "version": "3.9.7"
  }
 },
 "nbformat": 4,
 "nbformat_minor": 1
}
