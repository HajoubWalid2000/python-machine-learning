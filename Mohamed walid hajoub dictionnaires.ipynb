{
 "cells": [
  {
   "cell_type": "markdown",
   "metadata": {},
   "source": [
    "<img src=\"pp.png\" align =\"center\" width=\"900\" height=\"600\" /><br>\n",
    "<h1 align =\"center\" style = \"color:blue\"> Les objets dictionnaire </h1>"
   ]
  },
  {
   "cell_type": "markdown",
   "metadata": {
    "id": "YIItMh_uD9D_"
   },
   "source": [
    "## <font color=\"blue\">Définition</font>:\n",
    "<p>\n",
    "Un dictionnaire est un objet défini sur la base de clé-valeur. Contrairement aux autres objets tels que les listes, arrays et tuples dont les éléments sont identifiés par leur indice, les éléments d'un dictionnaire sont identifiés par leur clé.\n",
    "</p>\n",
    "<p>\n",
    "Un dictionnaire est donc une collection d'objets formée de couples clé-valeur, séparés par des virgules et spécifiés à l'intérieur des accolades.\n",
    "</p>\n",
    "<p>\n",
    "**Remqraque:**</br>\n",
    "Les dictionnaires ne sont pas des séquences.\n",
    "Les éléments que nous allons y enregistrer ne seront pas disposés dans un ordre immuable."
   ]
  },
  {
   "cell_type": "markdown",
   "metadata": {
    "id": "-ByY9qCb2OJB"
   },
   "source": [
    "## <font color=blue> Création d'un dictionnaire </font>\n",
    "Le dictionnaire est un type **modifiable**, il est possible alors de créer un dictionnaire vide, puis le remplir au fur et à mesure. Syntaxiquement les éléments d'un dictionnaire sont enfermés dans une paire d’accolades.\n",
    "- **Nom_dic = {cle:value , cle:value,...........,cle:value }**\n",
    "- Un dictionnaire vide sera donc noté <font color=red> { } </font>:\n",
    "\n"
   ]
  },
  {
   "cell_type": "code",
   "execution_count": 4,
   "metadata": {
    "colab": {
     "base_uri": "https://localhost:8080/"
    },
    "executionInfo": {
     "elapsed": 1523,
     "status": "ok",
     "timestamp": 1621433482498,
     "user": {
      "displayName": "Essaid Elhaji",
      "photoUrl": "https://lh3.googleusercontent.com/a-/AOh14Gg4o8uvIYrCZos1g5n3Y5yHb_eUR3U76caPGHYx0Q=s64",
      "userId": "14012992936521259927"
     },
     "user_tz": -120
    },
    "id": "frywIdY33lZl",
    "outputId": "807f7ddd-f646-49a7-8bc5-5cdecb1c0351"
   },
   "outputs": [
    {
     "name": "stdout",
     "output_type": "stream",
     "text": [
      "{'nom_ville': 'Larache', 'region': 'Nord', 'population': 150000}\n",
      "{'ville': ['Tanger', 'bni arous', 'Téteoun']}\n"
     ]
    }
   ],
   "source": [
    "#création d'un dictionnaire vide\n",
    "dico1={\"nom_ville\":\"Larache\",\"region\":\"Nord\",\"population\":150000}\n",
    "#ajouter un élément (clé, valeur)\n",
    "print(dico1)\n",
    "#Exemple d'une clé à plusieurs valeurs\n",
    "dico2={\"ville\":[\"Tanger\",\"bni arous\",\"Téteoun\"]}\n",
    "print(dico2)"
   ]
  },
  {
   "cell_type": "markdown",
   "metadata": {
    "id": "iOXgMyK17TI-"
   },
   "source": [
    "<font color=red>Remarque</font> <br>\n",
    "L'ordre des éléments d'un dictionnaire n'a aucun importance (except l'organisation)."
   ]
  },
  {
   "cell_type": "markdown",
   "metadata": {
    "id": "oVQl0XaOI10T"
   },
   "source": [
    "## <font color=\"blue\">Accéder aux éléments d’un dictionnaire (slicing)</font>:\n",
    "\n",
    "Pour accéder aux éléments d’un dictionnaire on se sert des clés. Toutefois la méthode de\n",
    "slicing diffère selon que la clé soit constituée d’une valeur unique ou de plusieurs valeurs\n",
    "comme une liste, tuples, etc…"
   ]
  },
  {
   "cell_type": "code",
   "execution_count": 5,
   "metadata": {
    "colab": {
     "base_uri": "https://localhost:8080/",
     "height": 35
    },
    "executionInfo": {
     "elapsed": 1513,
     "status": "ok",
     "timestamp": 1621433482502,
     "user": {
      "displayName": "Essaid Elhaji",
      "photoUrl": "https://lh3.googleusercontent.com/a-/AOh14Gg4o8uvIYrCZos1g5n3Y5yHb_eUR3U76caPGHYx0Q=s64",
      "userId": "14012992936521259927"
     },
     "user_tz": -120
    },
    "id": "DpA2NpHuDvtQ",
    "outputId": "dc543a9f-4cd0-4abe-962b-2faef02a13d2"
   },
   "outputs": [
    {
     "data": {
      "text/plain": [
       "1.75"
      ]
     },
     "execution_count": 5,
     "metadata": {},
     "output_type": "execute_result"
    }
   ],
   "source": [
    "x= {'nom':'Jean', 'age':25, 'poids':70, 'taille':1.75}\n",
    "67\n",
    "x['nom'] # renvoie Jean\n",
    "x['age'] # renvoie 25\n",
    "x['taille'] # renvoie 1.75"
   ]
  },
  {
   "cell_type": "markdown",
   "metadata": {
    "id": "-v3jXwImJHcQ"
   },
   "source": [
    "## <font color=\"blue\">Slicing d'un dictionaire dans le cas d'une clé à plusieurs valeur</font>:\n",
    "\n",
    "Dans le cas d’un dictionnaire dont les clés sont à valeur multiples, on distingue deux situations :\n",
    "les slicing de premier niveau et les slicing de second niveau. Dans le premier cas, on accède à\n",
    "l’ensemble des éléments qui correspondent à la clé et dans le second cas, on accède à un\n",
    "élément particulier de l’ensemble qui forme la clé. Les exemples ci-dessous sont des\n",
    "illustrations.\n",
    "Soit le dictionnaire x défini comme suit :"
   ]
  },
  {
   "cell_type": "code",
   "execution_count": 7,
   "metadata": {
    "colab": {
     "base_uri": "https://localhost:8080/"
    },
    "executionInfo": {
     "elapsed": 1500,
     "status": "ok",
     "timestamp": 1621433482504,
     "user": {
      "displayName": "Essaid Elhaji",
      "photoUrl": "https://lh3.googleusercontent.com/a-/AOh14Gg4o8uvIYrCZos1g5n3Y5yHb_eUR3U76caPGHYx0Q=s64",
      "userId": "14012992936521259927"
     },
     "user_tz": -120
    },
    "id": "FEEhUeAGG_ZS",
    "outputId": "856f55e1-fe12-4d56-ab1c-2821c38984fa"
   },
   "outputs": [
    {
     "data": {
      "text/plain": [
       "[25, 70]"
      ]
     },
     "execution_count": 7,
     "metadata": {},
     "output_type": "execute_result"
    }
   ],
   "source": [
    "x= {'Jean':[25,70,1.75],'Paul':[30,65,1.80],'Pierre':[35,75,1.65] }\n",
    "\n",
    "x['Jean'] #renvoie [25, 70, 1.75]\n",
    "x['Jean'][0] #renvoie 25\n",
    "x['Jean'][0 :2] #renvoie [25, 70]"
   ]
  },
  {
   "cell_type": "markdown",
   "metadata": {},
   "source": [
    "## <font color=\"blue\">Modification de dictionnaire : ajout et suppression de clés ou de valeurs</font>:\n",
    "Soit le dictionnaire vide x défini comme suit : <br>\n",
    "- x= {} : Crée un dictionnaire vide. On pouvait aussi utiliser x=dict()\n",
    "On va ajouter des clés et des valeurs à x et essayer d’apporter des modifcations au dictionnaire"
   ]
  },
  {
   "cell_type": "code",
   "execution_count": 11,
   "metadata": {},
   "outputs": [],
   "source": [
    "x= {} \n",
    "x['nom'] = 'Jean' # ajoute la clé-valeur nom et Jean au dictionnaire x initial\n",
    "x['biométrie']= [25,70,1.75] # ajoute la clé-valeur biométrie et [25,70,1.75] au dictionnaire x\n",
    "x['biométrie']= [30,70,1.80] # modifie les valeurs de la clé biométrie en effectuant une nouvelle définition\n",
    "x['biométrie'][0]= 2 # modifie l’élément d’indice 0 de la liste de\n",
    "                    #valeur qui correspond à la clé biométrie (préalabelemnt définie)"
   ]
  },
  {
   "cell_type": "markdown",
   "metadata": {},
   "source": [
    "## <font color=\"blue\">Suppression de clés ou de valeurs dans un dictionnaire</font>:\n",
    "\n",
    "Il est possible de supprimer des clés ou des valeurs dans un dictionnaire. Les exemples cidessous\n",
    "sont des illustrations.\n",
    "Soit le dictionnaire p défini comme suit :"
   ]
  },
  {
   "cell_type": "code",
   "execution_count": 18,
   "metadata": {},
   "outputs": [],
   "source": [
    "p= {'Jean':[25,70,1.75],'Paul':[30,65,1.80],'Pierre':[35,75,1.65] }\n",
    "\n",
    "# On peut faire des opérations de suppression suivantes :\n",
    "\n",
    "del p['Jean'] # Supprime la clé Jean toutes les valeurs correspondantes\n",
    "del p['Jean'][0] # Supprime l’élément d’indice 0 dans la séquence de\n",
    "#valeur correspondant à la clé Jean. Pour une clé à une seule valeur, on utilise del x['nomCle'] où nomCle est le nom de la clé qui a la\n",
    "#valeur unique.'''"
   ]
  },
  {
   "cell_type": "markdown",
   "metadata": {},
   "source": [
    "## <font color=\"blue\">Renommer une clé dans un dictionnaire</font>:\n",
    "Pour renommer une clé dans un dictionnaire, on utilise la fonction pop() telle que définie dans\n",
    "l’exemple suivant :\n",
    "Soit le dictionnaire x défini comme suit :"
   ]
  },
  {
   "cell_type": "code",
   "execution_count": null,
   "metadata": {},
   "outputs": [],
   "source": [
    "x= {'Jean':[25,70,1.75],'Paul':[30,65,1.80],'Pierre':[35,75,1.65] }\n",
    "#On souhaite renommer la clé Jean comme John. Alors on utilise la méthode de renommage\n",
    "#comme suit :\n",
    "x['John']=x.pop('Jean')"
   ]
  },
  {
   "cell_type": "markdown",
   "metadata": {},
   "source": [
    "## <font color=\"blue\">Tester l’existence d’une clé dans un dictionnaire :</font>: \n",
    "la fonction **in** Pour vérifier si une clé existe dans un dictionnaire, on utilise la fonction in qui renvoie une\n",
    "valeur booléenne (True ou False) selon que la clé existe ou pas dans la liste. Exemple : soit le\n",
    "dictionnaire x définir par :"
   ]
  },
  {
   "cell_type": "code",
   "execution_count": 20,
   "metadata": {
    "colab": {
     "base_uri": "https://localhost:8080/"
    },
    "executionInfo": {
     "elapsed": 657,
     "status": "ok",
     "timestamp": 1621434060301,
     "user": {
      "displayName": "Essaid Elhaji",
      "photoUrl": "https://lh3.googleusercontent.com/a-/AOh14Gg4o8uvIYrCZos1g5n3Y5yHb_eUR3U76caPGHYx0Q=s64",
      "userId": "14012992936521259927"
     },
     "user_tz": -120
    },
    "id": "Y52ZSyLxKCoP",
    "outputId": "170b1368-2411-4584-c9b9-ec1e4d76c594"
   },
   "outputs": [
    {
     "data": {
      "text/plain": [
       "True"
      ]
     },
     "execution_count": 20,
     "metadata": {
      "tags": []
     },
     "output_type": "execute_result"
    }
   ],
   "source": [
    "x= {'Jean':[25,70,1.75],'Paul':[30,65,1.80],'Pierre':[35,75,1.65] }\n",
    "\n",
    "#On peut faire des tests d’existence suivants :\n",
    "    \n",
    "'Paul' in x # renvoie True (car il y a bien Paul parmi les clés de x)\n",
    "'Sebastien' in x # renvoie False\n",
    "'Sebastien' not in x # renvoie True\n",
    "'Jean' not in x # renvoie False"
   ]
  },
  {
   "cell_type": "markdown",
   "metadata": {
    "id": "9m9-_bTFKJVq"
   },
   "source": [
    "## <font color=\"blue\">Récupérer les clés et les valeurs en utilisant les fonctions:keys() et values()</font>:"
   ]
  },
  {
   "cell_type": "code",
   "execution_count": 7,
   "metadata": {
    "colab": {
     "base_uri": "https://localhost:8080/"
    },
    "executionInfo": {
     "elapsed": 1491,
     "status": "ok",
     "timestamp": 1621433482510,
     "user": {
      "displayName": "Essaid Elhaji",
      "photoUrl": "https://lh3.googleusercontent.com/a-/AOh14Gg4o8uvIYrCZos1g5n3Y5yHb_eUR3U76caPGHYx0Q=s64",
      "userId": "14012992936521259927"
     },
     "user_tz": -120
    },
    "id": "C2ansUBmKWcU",
    "outputId": "595124c8-a05a-44a7-de6f-d2b610fd1483"
   },
   "outputs": [
    {
     "name": "stdout",
     "output_type": "stream",
     "text": [
      "nom_etudiant\n",
      "prenom_etudiant\n"
     ]
    }
   ],
   "source": [
    "for cle in dico1.keys():\n",
    "  print(cle)"
   ]
  },
  {
   "cell_type": "markdown",
   "metadata": {
    "id": "MRvdoN_BIjS-"
   },
   "source": [
    "## <font color=\"blue\">Récupérer les valeurs en utilisant les fonctions:values()</font>:"
   ]
  },
  {
   "cell_type": "code",
   "execution_count": 8,
   "metadata": {
    "colab": {
     "base_uri": "https://localhost:8080/"
    },
    "executionInfo": {
     "elapsed": 1489,
     "status": "ok",
     "timestamp": 1621433482510,
     "user": {
      "displayName": "Essaid Elhaji",
      "photoUrl": "https://lh3.googleusercontent.com/a-/AOh14Gg4o8uvIYrCZos1g5n3Y5yHb_eUR3U76caPGHYx0Q=s64",
      "userId": "14012992936521259927"
     },
     "user_tz": -120
    },
    "id": "GEKHpqzgItY_",
    "outputId": "98262422-bb52-4e48-b7dc-934ae5413e3e"
   },
   "outputs": [
    {
     "name": "stdout",
     "output_type": "stream",
     "text": [
      "ERRIYAHI\n",
      "Said\n"
     ]
    }
   ],
   "source": [
    "for valeur in dico1.values():\n",
    "  print(valeur)"
   ]
  },
  {
   "cell_type": "markdown",
   "metadata": {
    "id": "6ycJYtXwI_77"
   },
   "source": [
    "## <font color=blue>Récupérer les pairs clé-valeurs en utilisant les fonctions:</font><font color=red>items()</font>:"
   ]
  },
  {
   "cell_type": "code",
   "execution_count": 31,
   "metadata": {
    "colab": {
     "base_uri": "https://localhost:8080/"
    },
    "executionInfo": {
     "elapsed": 1186,
     "status": "ok",
     "timestamp": 1621438838020,
     "user": {
      "displayName": "Essaid Elhaji",
      "photoUrl": "https://lh3.googleusercontent.com/a-/AOh14Gg4o8uvIYrCZos1g5n3Y5yHb_eUR3U76caPGHYx0Q=s64",
      "userId": "14012992936521259927"
     },
     "user_tz": -120
    },
    "id": "HFoZGWiJR2N1",
    "outputId": "40f2af54-5dd4-4a87-8e03-58ddb35efa5f"
   },
   "outputs": [
    {
     "name": "stdout",
     "output_type": "stream",
     "text": [
      "prenom_etudiant : Said\n",
      "nomEtudiant : ERRIYAHI\n"
     ]
    }
   ],
   "source": [
    "for cle, valeur in dico1.items():\n",
    "  print(cle,\":\",valeur)"
   ]
  }
 ],
 "metadata": {
  "colab": {
   "authorship_tag": "ABX9TyPwgWZ9kEgr4s659xtrh6Jp",
   "name": "dictionnaires.ipynb",
   "provenance": [],
   "toc_visible": true
  },
  "kernelspec": {
   "display_name": "Python 3 (ipykernel)",
   "language": "python",
   "name": "python3"
  },
  "language_info": {
   "codemirror_mode": {
    "name": "ipython",
    "version": 3
   },
   "file_extension": ".py",
   "mimetype": "text/x-python",
   "name": "python",
   "nbconvert_exporter": "python",
   "pygments_lexer": "ipython3",
   "version": "3.9.7"
  }
 },
 "nbformat": 4,
 "nbformat_minor": 1
}
