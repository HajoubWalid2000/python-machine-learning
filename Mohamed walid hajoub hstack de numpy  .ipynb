{
 "cells": [
  {
   "cell_type": "markdown",
   "id": "4c04e9fd",
   "metadata": {},
   "source": [
    "<img src=\"pp.png\" align =\"center\" width=\"900\" height=\"600\" /><br>\n",
    "<h1 align =\"center\" style = \"color:blue\"> hstack de numpy </h1>"
   ]
  },
  {
   "cell_type": "markdown",
   "id": "cc70f556",
   "metadata": {},
   "source": [
    "<h2 style = \"color:red\"> Fonction numpy.hstack()</h2>\n",
    "\n",
    "\n",
    "La fonction **hstack()** est utilisée pour empiler des tableaux en séquence horizontalement (par colonne).\n",
    "Cela équivaut à une concaténation le long du deuxième axe, sauf pour les tableaux 1-D où il concatène le long du premier axe. Reconstruit les tableaux divisés par hsplit.\n",
    "Cette fonction a plus de sens pour les tableaux jusqu'à 3 dimensions. Par exemple, pour les données de pixels avec une hauteur (premier axe), une largeur (deuxième axe) et des canaux r/g/b (troisième axe). Les fonctions concaténer, empiler et bloquer fournissent des opérations d'empilement et de concaténation plus générales.\n",
    "\n",
    "\n",
    "<h4 style = \"color:green\"> Exemple numpy.hstack()</42>"
   ]
  },
  {
   "cell_type": "code",
   "execution_count": 53,
   "id": "6379e935",
   "metadata": {},
   "outputs": [
    {
     "name": "stdout",
     "output_type": "stream",
     "text": [
      "[3 5 7 5 7 9]\n",
      "\n",
      "EXmple 2 : \n",
      " [[3 5]\n",
      " [5 7]\n",
      " [7 9]]\n"
     ]
    }
   ],
   "source": [
    "import numpy as np\n",
    "# 1 dimension\n",
    "x = np.array((3,5,7))\n",
    "y = np.array((5,7,9))\n",
    "print(np.hstack((x,y)))\n",
    "# 2 dimension\n",
    "x1 = np.array([[3], [5], [7]])\n",
    "y2 = np.array([[5], [7], [9]])\n",
    "print(\"\\nEXmple 2 : \\n\",np.hstack((x1,y2)))"
   ]
  },
  {
   "cell_type": "markdown",
   "id": "b0fc5114",
   "metadata": {},
   "source": [
    "<h2 style = \"color:red\">  création d'un DataFrame</h2>"
   ]
  },
  {
   "cell_type": "code",
   "execution_count": 42,
   "id": "8bee074d",
   "metadata": {},
   "outputs": [
    {
     "name": "stdout",
     "output_type": "stream",
     "text": [
      "     Feature      target\n",
      "0   0.757765   66.079158\n",
      "1   2.438018  212.056854\n",
      "2   0.207011   18.162391\n",
      "3   0.762492   66.240163\n",
      "4  -0.886505  -77.035206\n",
      "..       ...         ...\n",
      "95 -1.851779 -161.114745\n",
      "96  1.465557  127.597529\n",
      "97 -0.046897   -4.080321\n",
      "98  0.996426   86.608348\n",
      "99 -2.058756 -179.141648\n",
      "\n",
      "[100 rows x 2 columns]\n"
     ]
    }
   ],
   "source": [
    "from sklearn.datasets import make_regression\n",
    "from matplotlib import pyplot\n",
    "import pandas as pd\n",
    "import numpy as np\n",
    "\n",
    "# generate regression dataset\n",
    "X, Y = make_regression(n_samples=100, n_features=1, noise=0.1)\n",
    "\n",
    "Y_rshp = Y.flatten() # redimension matrice aux tableaux\n",
    "X_rshp = X.flatten()\n",
    "\n",
    "data = {\n",
    "  \"Feature\": X_rshp,\n",
    "  \"target\": Y_rshp\n",
    "}\n",
    "\n",
    "df = pd.DataFrame(data)\n",
    "\n",
    "print(df) \n"
   ]
  },
  {
   "cell_type": "code",
   "execution_count": null,
   "id": "3bcb9690",
   "metadata": {},
   "outputs": [],
   "source": []
  },
  {
   "cell_type": "code",
   "execution_count": null,
   "id": "339db858",
   "metadata": {},
   "outputs": [],
   "source": []
  },
  {
   "cell_type": "code",
   "execution_count": null,
   "id": "f64ace22",
   "metadata": {},
   "outputs": [],
   "source": []
  }
 ],
 "metadata": {
  "kernelspec": {
   "display_name": "Python 3 (ipykernel)",
   "language": "python",
   "name": "python3"
  },
  "language_info": {
   "codemirror_mode": {
    "name": "ipython",
    "version": 3
   },
   "file_extension": ".py",
   "mimetype": "text/x-python",
   "name": "python",
   "nbconvert_exporter": "python",
   "pygments_lexer": "ipython3",
   "version": "3.9.7"
  }
 },
 "nbformat": 4,
 "nbformat_minor": 5
}
