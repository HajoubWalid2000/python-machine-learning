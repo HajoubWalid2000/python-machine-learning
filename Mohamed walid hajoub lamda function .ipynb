{
 "cells": [
  {
   "cell_type": "markdown",
   "id": "4c04e9fd",
   "metadata": {},
   "source": [
    "<img src=\"pp.png\" align =\"center\" width=\"900\" height=\"600\" /><br>\n",
    "<h1 align =\"center\" style = \"color:blue\"> Les fonctions lamda </h1>"
   ]
  },
  {
   "cell_type": "markdown",
   "id": "584fb0b5",
   "metadata": {},
   "source": [
    "<h2 ><font color=red> Lambda </font></h2>"
   ]
  },
  {
   "cell_type": "markdown",
   "id": "c89c6044",
   "metadata": {},
   "source": [
    "\n",
    "Une fonction lambda est une fonction **anonyme** c'est-à-dire une fonction constituée d’un bloc\n",
    "d’instructions appelable et réutilisable comme une fonction, mais sans nom. Une fonction\n",
    "lambda est généralement utilisée pour des fonctions très courtes avec peu d’instructions\n",
    "(nécessitant pas alors d’écrire une fonction classique avec le mot clé def et un appel)\n",
    "\n",
    "La syntaxe générale de définition d'une fonction lamda est la suivante:\n",
    "- **lambda arg1, arg2,…, argN : bloc instructions(ou formules)**\n",
    "\n",
    "\n",
    "- Une fonction lambda est déclarée avec le mot clé lambda qui figure par les 33 mots réservés de python. Ce mot clé est accompagné par le (ou les arguments) qui entrent dans la définition de la fonction. La fin de la déclaration est marquée par le symbole « : » à la suite duquel on spécifie les instructions.\n",
    "\n",
    "- fonction lambda n’est définie avec aucun nom. Les arguments ne sont pas obligatoirement spécifiés à l’intérieur de parenthèses.\n",
    "\n",
    "- pour récupérer la valeur renvoyée, lors de l’appel de la fonction, il faut l’assigner à une nouvelle variable."
   ]
  },
  {
   "cell_type": "code",
   "execution_count": 7,
   "id": "6379e935",
   "metadata": {},
   "outputs": [
    {
     "name": "stdout",
     "output_type": "stream",
     "text": [
      "7\n",
      "40\n"
     ]
    }
   ],
   "source": [
    "z=lambda x, y : x + y # somme\n",
    "w=lambda x, y : x * y # multiplication\n",
    "\n",
    "# z(3,12) appelle de fonction\n",
    "print(z(3,4))\n",
    "\n",
    "a=w(2,20)\n",
    "print(a)\n"
   ]
  },
  {
   "cell_type": "code",
   "execution_count": null,
   "id": "99879d0a",
   "metadata": {},
   "outputs": [],
   "source": []
  }
 ],
 "metadata": {
  "kernelspec": {
   "display_name": "Python 3 (ipykernel)",
   "language": "python",
   "name": "python3"
  },
  "language_info": {
   "codemirror_mode": {
    "name": "ipython",
    "version": 3
   },
   "file_extension": ".py",
   "mimetype": "text/x-python",
   "name": "python",
   "nbconvert_exporter": "python",
   "pygments_lexer": "ipython3",
   "version": "3.9.7"
  }
 },
 "nbformat": 4,
 "nbformat_minor": 5
}
