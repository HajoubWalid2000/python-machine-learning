{
 "cells": [
  {
   "cell_type": "markdown",
   "metadata": {
    "id": "7i-RsrCbFaJR"
   },
   "source": [
    "<img src=\"pp.png\" align =\"center\" width=\"900\" height=\"600\" /><br>\n",
    "<h1 align =\"center\" style = \"color:blue\"> analyser données avec pandas  </h1>"
   ]
  },
  {
   "cell_type": "code",
   "execution_count": 2,
   "metadata": {
    "colab": {
     "base_uri": "https://localhost:8080/"
    },
    "id": "WvA_0U9FFW_r",
    "outputId": "b9ceb75f-dfd4-445b-ff54-1397e2d10df0"
   },
   "outputs": [],
   "source": [
    "# connecter google colab avec google drive pour lire les donnees .\n",
    "#from google.colab import drive\n",
    "#drive.mount('/content/drive')"
   ]
  },
  {
   "cell_type": "markdown",
   "metadata": {},
   "source": [
    "<h2  style = \"color:blue\"> Importer bibliothéque </h2>"
   ]
  },
  {
   "cell_type": "code",
   "execution_count": 12,
   "metadata": {
    "id": "rlmjfDxaGx1O"
   },
   "outputs": [],
   "source": [
    "#Lire les bibliotheques\n",
    "import pandas as pd\n",
    "import numpy as np\n",
    "import matplotlib.pyplot as plt"
   ]
  },
  {
   "cell_type": "markdown",
   "metadata": {},
   "source": [
    "<h2  style = \"color:blue\"> Importer ozone.txt </h2>"
   ]
  },
  {
   "cell_type": "code",
   "execution_count": 27,
   "metadata": {
    "id": "ig7jn2NPG_Hg"
   },
   "outputs": [],
   "source": [
    "#Lire les donnes avec pandas (a partir d'un fichier txt qui utilise le separateur , )\n",
    "df = pd.read_csv('ozone.txt', sep=\";\", header=[0])\n",
    "#df = pd.read_csv('/content/drive/MyDrive/dataset/ozone.txt', sep=\";\", header=[0]) lire a partir google colab"
   ]
  },
  {
   "cell_type": "markdown",
   "metadata": {},
   "source": [
    "<h2  style = \"color:blue\"> Afficher Données  </h2>"
   ]
  },
  {
   "cell_type": "code",
   "execution_count": 14,
   "metadata": {
    "colab": {
     "base_uri": "https://localhost:8080/",
     "height": 206
    },
    "id": "aFIwdwKeHmzP",
    "outputId": "1300ffa3-397f-49fa-a395-92b9fc694ea4"
   },
   "outputs": [
    {
     "data": {
      "text/html": [
       "<div>\n",
       "<style scoped>\n",
       "    .dataframe tbody tr th:only-of-type {\n",
       "        vertical-align: middle;\n",
       "    }\n",
       "\n",
       "    .dataframe tbody tr th {\n",
       "        vertical-align: top;\n",
       "    }\n",
       "\n",
       "    .dataframe thead th {\n",
       "        text-align: right;\n",
       "    }\n",
       "</style>\n",
       "<table border=\"1\" class=\"dataframe\">\n",
       "  <thead>\n",
       "    <tr style=\"text-align: right;\">\n",
       "      <th></th>\n",
       "      <th>obs</th>\n",
       "      <th>maxO3</th>\n",
       "      <th>T9</th>\n",
       "      <th>T12</th>\n",
       "      <th>T15</th>\n",
       "      <th>Ne9</th>\n",
       "      <th>Ne12</th>\n",
       "      <th>Ne15</th>\n",
       "      <th>Vx9</th>\n",
       "      <th>Vx12</th>\n",
       "      <th>Vx15</th>\n",
       "      <th>maxO3v</th>\n",
       "      <th>vent</th>\n",
       "      <th>pluie</th>\n",
       "    </tr>\n",
       "  </thead>\n",
       "  <tbody>\n",
       "    <tr>\n",
       "      <th>0</th>\n",
       "      <td>601</td>\n",
       "      <td>87</td>\n",
       "      <td>15,6</td>\n",
       "      <td>18,5</td>\n",
       "      <td>18,4</td>\n",
       "      <td>4</td>\n",
       "      <td>4</td>\n",
       "      <td>8</td>\n",
       "      <td>0,6946</td>\n",
       "      <td>-1,7101</td>\n",
       "      <td>-0,6946</td>\n",
       "      <td>84</td>\n",
       "      <td>Nord</td>\n",
       "      <td>Sec</td>\n",
       "    </tr>\n",
       "    <tr>\n",
       "      <th>1</th>\n",
       "      <td>602</td>\n",
       "      <td>82</td>\n",
       "      <td>17</td>\n",
       "      <td>18,4</td>\n",
       "      <td>17,7</td>\n",
       "      <td>5</td>\n",
       "      <td>5</td>\n",
       "      <td>7</td>\n",
       "      <td>-4,3301</td>\n",
       "      <td>-4</td>\n",
       "      <td>-3</td>\n",
       "      <td>87</td>\n",
       "      <td>Nord</td>\n",
       "      <td>Sec</td>\n",
       "    </tr>\n",
       "    <tr>\n",
       "      <th>2</th>\n",
       "      <td>603</td>\n",
       "      <td>92</td>\n",
       "      <td>15,3</td>\n",
       "      <td>17,6</td>\n",
       "      <td>19,5</td>\n",
       "      <td>2</td>\n",
       "      <td>5</td>\n",
       "      <td>4</td>\n",
       "      <td>2,9544</td>\n",
       "      <td>1,8794</td>\n",
       "      <td>0,5209</td>\n",
       "      <td>82</td>\n",
       "      <td>Est</td>\n",
       "      <td>Sec</td>\n",
       "    </tr>\n",
       "    <tr>\n",
       "      <th>3</th>\n",
       "      <td>604</td>\n",
       "      <td>114</td>\n",
       "      <td>16,2</td>\n",
       "      <td>19,7</td>\n",
       "      <td>22,5</td>\n",
       "      <td>1</td>\n",
       "      <td>1</td>\n",
       "      <td>0</td>\n",
       "      <td>0,9848</td>\n",
       "      <td>0,3473</td>\n",
       "      <td>-0,1736</td>\n",
       "      <td>92</td>\n",
       "      <td>Nord</td>\n",
       "      <td>Sec</td>\n",
       "    </tr>\n",
       "    <tr>\n",
       "      <th>4</th>\n",
       "      <td>605</td>\n",
       "      <td>94</td>\n",
       "      <td>17,4</td>\n",
       "      <td>20,5</td>\n",
       "      <td>20,4</td>\n",
       "      <td>8</td>\n",
       "      <td>8</td>\n",
       "      <td>7</td>\n",
       "      <td>-0,5</td>\n",
       "      <td>-2,9544</td>\n",
       "      <td>-4,3301</td>\n",
       "      <td>114</td>\n",
       "      <td>Ouest</td>\n",
       "      <td>Sec</td>\n",
       "    </tr>\n",
       "  </tbody>\n",
       "</table>\n",
       "</div>"
      ],
      "text/plain": [
       "   obs  maxO3    T9   T12   T15  Ne9  Ne12  Ne15      Vx9     Vx12     Vx15  \\\n",
       "0  601     87  15,6  18,5  18,4    4     4     8   0,6946  -1,7101  -0,6946   \n",
       "1  602     82    17  18,4  17,7    5     5     7  -4,3301       -4       -3   \n",
       "2  603     92  15,3  17,6  19,5    2     5     4   2,9544   1,8794   0,5209   \n",
       "3  604    114  16,2  19,7  22,5    1     1     0   0,9848   0,3473  -0,1736   \n",
       "4  605     94  17,4  20,5  20,4    8     8     7     -0,5  -2,9544  -4,3301   \n",
       "\n",
       "   maxO3v   vent pluie  \n",
       "0      84   Nord   Sec  \n",
       "1      87   Nord   Sec  \n",
       "2      82    Est   Sec  \n",
       "3      92   Nord   Sec  \n",
       "4     114  Ouest   Sec  "
      ]
     },
     "execution_count": 14,
     "metadata": {},
     "output_type": "execute_result"
    }
   ],
   "source": [
    "#Afficher les donnees\n",
    "df.head()"
   ]
  },
  {
   "cell_type": "markdown",
   "metadata": {},
   "source": [
    "<h2  style = \"color:blue\"> Afficher La taille des donnees </h2>"
   ]
  },
  {
   "cell_type": "code",
   "execution_count": 15,
   "metadata": {
    "colab": {
     "base_uri": "https://localhost:8080/"
    },
    "id": "2OGDJpf0Nk6F",
    "outputId": "ed499171-e5e2-4f0e-eab1-a7cb160cbffc"
   },
   "outputs": [
    {
     "name": "stdout",
     "output_type": "stream",
     "text": [
      "La Taile des donnees est :  (112, 14)\n"
     ]
    }
   ],
   "source": [
    "#Afficher La taille des donnees\n",
    "print('La Taile des donnees est : ' , df.shape)"
   ]
  },
  {
   "cell_type": "markdown",
   "metadata": {},
   "source": [
    "<h2  style = \"color:blue\"> type de chaque données </h2>\n"
   ]
  },
  {
   "cell_type": "code",
   "execution_count": 18,
   "metadata": {},
   "outputs": [
    {
     "name": "stdout",
     "output_type": "stream",
     "text": [
      "obs        int64\n",
      "maxO3      int64\n",
      "T9        object\n",
      "T12       object\n",
      "T15       object\n",
      "Ne9        int64\n",
      "Ne12       int64\n",
      "Ne15       int64\n",
      "Vx9       object\n",
      "Vx12      object\n",
      "Vx15      object\n",
      "maxO3v     int64\n",
      "vent      object\n",
      "pluie     object\n",
      "dtype: object\n"
     ]
    }
   ],
   "source": [
    "#type de chaque données\n",
    "print(df.dtypes)"
   ]
  },
  {
   "cell_type": "markdown",
   "metadata": {},
   "source": [
    "<h2  style = \"color:blue\"> Afficher Colonnes </h2>"
   ]
  },
  {
   "cell_type": "code",
   "execution_count": 28,
   "metadata": {
    "colab": {
     "base_uri": "https://localhost:8080/"
    },
    "id": "UCLj2ojhN9TT",
    "outputId": "c209104a-0e76-42e6-9432-d7be50ee9313"
   },
   "outputs": [
    {
     "name": "stdout",
     "output_type": "stream",
     "text": [
      "List des colonnes : \n",
      "obs\n",
      "maxO3\n",
      "T9\n",
      "T12\n",
      "T15\n",
      "Ne9\n",
      "Ne12\n",
      "Ne15\n",
      "Vx9\n",
      "Vx12\n",
      "Vx15\n",
      "maxO3v\n",
      "vent\n",
      "pluie\n"
     ]
    }
   ],
   "source": [
    "print('List des colonnes : ')\n",
    "for col in df.columns :\n",
    "  print(col)"
   ]
  },
  {
   "cell_type": "markdown",
   "metadata": {},
   "source": [
    "<h2  style = \"color:blue\"> Afficher les informations sur les donnees </h2>"
   ]
  },
  {
   "cell_type": "code",
   "execution_count": 7,
   "metadata": {
    "colab": {
     "base_uri": "https://localhost:8080/"
    },
    "id": "YFkvZNv9IOIS",
    "outputId": "e9d7602b-5e41-4d0d-e568-36210f7503b8"
   },
   "outputs": [
    {
     "name": "stdout",
     "output_type": "stream",
     "text": [
      "<class 'pandas.core.frame.DataFrame'>\n",
      "RangeIndex: 112 entries, 0 to 111\n",
      "Data columns (total 14 columns):\n",
      " #   Column  Non-Null Count  Dtype \n",
      "---  ------  --------------  ----- \n",
      " 0   obs     112 non-null    int64 \n",
      " 1   maxO3   112 non-null    int64 \n",
      " 2   T9      112 non-null    object\n",
      " 3   T12     112 non-null    object\n",
      " 4   T15     112 non-null    object\n",
      " 5   Ne9     112 non-null    int64 \n",
      " 6   Ne12    112 non-null    int64 \n",
      " 7   Ne15    112 non-null    int64 \n",
      " 8   Vx9     112 non-null    object\n",
      " 9   Vx12    112 non-null    object\n",
      " 10  Vx15    112 non-null    object\n",
      " 11  maxO3v  112 non-null    int64 \n",
      " 12  vent    112 non-null    object\n",
      " 13  pluie   112 non-null    object\n",
      "dtypes: int64(6), object(8)\n",
      "memory usage: 12.4+ KB\n"
     ]
    }
   ],
   "source": [
    "#Afficher les informations sur les donnees\n",
    "df.info()"
   ]
  },
  {
   "cell_type": "markdown",
   "metadata": {},
   "source": [
    "<h2  style = \"color:blue\"> Afficher plus d'info sur les donnees </h2>\n"
   ]
  },
  {
   "cell_type": "code",
   "execution_count": 8,
   "metadata": {
    "colab": {
     "base_uri": "https://localhost:8080/",
     "height": 237
    },
    "id": "MIidbsldIUJ6",
    "outputId": "8bbf21a2-d968-4807-ada8-d7e13d8fb854"
   },
   "outputs": [
    {
     "data": {
      "text/html": [
       "\n",
       "  <div id=\"df-86b08584-bfea-40ce-92c1-134b4b52e151\">\n",
       "    <div class=\"colab-df-container\">\n",
       "      <div>\n",
       "<style scoped>\n",
       "    .dataframe tbody tr th:only-of-type {\n",
       "        vertical-align: middle;\n",
       "    }\n",
       "\n",
       "    .dataframe tbody tr th {\n",
       "        vertical-align: top;\n",
       "    }\n",
       "\n",
       "    .dataframe thead th {\n",
       "        text-align: right;\n",
       "    }\n",
       "</style>\n",
       "<table border=\"1\" class=\"dataframe\">\n",
       "  <thead>\n",
       "    <tr style=\"text-align: right;\">\n",
       "      <th></th>\n",
       "      <th>count</th>\n",
       "      <th>mean</th>\n",
       "      <th>std</th>\n",
       "      <th>min</th>\n",
       "      <th>25%</th>\n",
       "      <th>50%</th>\n",
       "      <th>75%</th>\n",
       "      <th>max</th>\n",
       "    </tr>\n",
       "  </thead>\n",
       "  <tbody>\n",
       "    <tr>\n",
       "      <th>obs</th>\n",
       "      <td>112.0</td>\n",
       "      <td>763.205357</td>\n",
       "      <td>110.149705</td>\n",
       "      <td>601.0</td>\n",
       "      <td>701.75</td>\n",
       "      <td>729.5</td>\n",
       "      <td>829.25</td>\n",
       "      <td>930.0</td>\n",
       "    </tr>\n",
       "    <tr>\n",
       "      <th>maxO3</th>\n",
       "      <td>112.0</td>\n",
       "      <td>90.303571</td>\n",
       "      <td>28.187225</td>\n",
       "      <td>42.0</td>\n",
       "      <td>70.75</td>\n",
       "      <td>81.5</td>\n",
       "      <td>106.00</td>\n",
       "      <td>166.0</td>\n",
       "    </tr>\n",
       "    <tr>\n",
       "      <th>Ne9</th>\n",
       "      <td>112.0</td>\n",
       "      <td>4.928571</td>\n",
       "      <td>2.594916</td>\n",
       "      <td>0.0</td>\n",
       "      <td>3.00</td>\n",
       "      <td>6.0</td>\n",
       "      <td>7.00</td>\n",
       "      <td>8.0</td>\n",
       "    </tr>\n",
       "    <tr>\n",
       "      <th>Ne12</th>\n",
       "      <td>112.0</td>\n",
       "      <td>5.017857</td>\n",
       "      <td>2.281860</td>\n",
       "      <td>0.0</td>\n",
       "      <td>4.00</td>\n",
       "      <td>5.0</td>\n",
       "      <td>7.00</td>\n",
       "      <td>8.0</td>\n",
       "    </tr>\n",
       "    <tr>\n",
       "      <th>Ne15</th>\n",
       "      <td>112.0</td>\n",
       "      <td>4.830357</td>\n",
       "      <td>2.332259</td>\n",
       "      <td>0.0</td>\n",
       "      <td>3.00</td>\n",
       "      <td>5.0</td>\n",
       "      <td>7.00</td>\n",
       "      <td>8.0</td>\n",
       "    </tr>\n",
       "    <tr>\n",
       "      <th>maxO3v</th>\n",
       "      <td>112.0</td>\n",
       "      <td>90.571429</td>\n",
       "      <td>28.276853</td>\n",
       "      <td>42.0</td>\n",
       "      <td>71.00</td>\n",
       "      <td>82.5</td>\n",
       "      <td>106.00</td>\n",
       "      <td>166.0</td>\n",
       "    </tr>\n",
       "  </tbody>\n",
       "</table>\n",
       "</div>\n",
       "      <button class=\"colab-df-convert\" onclick=\"convertToInteractive('df-86b08584-bfea-40ce-92c1-134b4b52e151')\"\n",
       "              title=\"Convert this dataframe to an interactive table.\"\n",
       "              style=\"display:none;\">\n",
       "        \n",
       "  <svg xmlns=\"http://www.w3.org/2000/svg\" height=\"24px\"viewBox=\"0 0 24 24\"\n",
       "       width=\"24px\">\n",
       "    <path d=\"M0 0h24v24H0V0z\" fill=\"none\"/>\n",
       "    <path d=\"M18.56 5.44l.94 2.06.94-2.06 2.06-.94-2.06-.94-.94-2.06-.94 2.06-2.06.94zm-11 1L8.5 8.5l.94-2.06 2.06-.94-2.06-.94L8.5 2.5l-.94 2.06-2.06.94zm10 10l.94 2.06.94-2.06 2.06-.94-2.06-.94-.94-2.06-.94 2.06-2.06.94z\"/><path d=\"M17.41 7.96l-1.37-1.37c-.4-.4-.92-.59-1.43-.59-.52 0-1.04.2-1.43.59L10.3 9.45l-7.72 7.72c-.78.78-.78 2.05 0 2.83L4 21.41c.39.39.9.59 1.41.59.51 0 1.02-.2 1.41-.59l7.78-7.78 2.81-2.81c.8-.78.8-2.07 0-2.86zM5.41 20L4 18.59l7.72-7.72 1.47 1.35L5.41 20z\"/>\n",
       "  </svg>\n",
       "      </button>\n",
       "      \n",
       "  <style>\n",
       "    .colab-df-container {\n",
       "      display:flex;\n",
       "      flex-wrap:wrap;\n",
       "      gap: 12px;\n",
       "    }\n",
       "\n",
       "    .colab-df-convert {\n",
       "      background-color: #E8F0FE;\n",
       "      border: none;\n",
       "      border-radius: 50%;\n",
       "      cursor: pointer;\n",
       "      display: none;\n",
       "      fill: #1967D2;\n",
       "      height: 32px;\n",
       "      padding: 0 0 0 0;\n",
       "      width: 32px;\n",
       "    }\n",
       "\n",
       "    .colab-df-convert:hover {\n",
       "      background-color: #E2EBFA;\n",
       "      box-shadow: 0px 1px 2px rgba(60, 64, 67, 0.3), 0px 1px 3px 1px rgba(60, 64, 67, 0.15);\n",
       "      fill: #174EA6;\n",
       "    }\n",
       "\n",
       "    [theme=dark] .colab-df-convert {\n",
       "      background-color: #3B4455;\n",
       "      fill: #D2E3FC;\n",
       "    }\n",
       "\n",
       "    [theme=dark] .colab-df-convert:hover {\n",
       "      background-color: #434B5C;\n",
       "      box-shadow: 0px 1px 3px 1px rgba(0, 0, 0, 0.15);\n",
       "      filter: drop-shadow(0px 1px 2px rgba(0, 0, 0, 0.3));\n",
       "      fill: #FFFFFF;\n",
       "    }\n",
       "  </style>\n",
       "\n",
       "      <script>\n",
       "        const buttonEl =\n",
       "          document.querySelector('#df-86b08584-bfea-40ce-92c1-134b4b52e151 button.colab-df-convert');\n",
       "        buttonEl.style.display =\n",
       "          google.colab.kernel.accessAllowed ? 'block' : 'none';\n",
       "\n",
       "        async function convertToInteractive(key) {\n",
       "          const element = document.querySelector('#df-86b08584-bfea-40ce-92c1-134b4b52e151');\n",
       "          const dataTable =\n",
       "            await google.colab.kernel.invokeFunction('convertToInteractive',\n",
       "                                                     [key], {});\n",
       "          if (!dataTable) return;\n",
       "\n",
       "          const docLinkHtml = 'Like what you see? Visit the ' +\n",
       "            '<a target=\"_blank\" href=https://colab.research.google.com/notebooks/data_table.ipynb>data table notebook</a>'\n",
       "            + ' to learn more about interactive tables.';\n",
       "          element.innerHTML = '';\n",
       "          dataTable['output_type'] = 'display_data';\n",
       "          await google.colab.output.renderOutput(dataTable, element);\n",
       "          const docLink = document.createElement('div');\n",
       "          docLink.innerHTML = docLinkHtml;\n",
       "          element.appendChild(docLink);\n",
       "        }\n",
       "      </script>\n",
       "    </div>\n",
       "  </div>\n",
       "  "
      ],
      "text/plain": [
       "        count        mean         std    min     25%    50%     75%    max\n",
       "obs     112.0  763.205357  110.149705  601.0  701.75  729.5  829.25  930.0\n",
       "maxO3   112.0   90.303571   28.187225   42.0   70.75   81.5  106.00  166.0\n",
       "Ne9     112.0    4.928571    2.594916    0.0    3.00    6.0    7.00    8.0\n",
       "Ne12    112.0    5.017857    2.281860    0.0    4.00    5.0    7.00    8.0\n",
       "Ne15    112.0    4.830357    2.332259    0.0    3.00    5.0    7.00    8.0\n",
       "maxO3v  112.0   90.571429   28.276853   42.0   71.00   82.5  106.00  166.0"
      ]
     },
     "execution_count": 8,
     "metadata": {},
     "output_type": "execute_result"
    }
   ],
   "source": [
    "#Afficher plus d'info sur les donnees\n",
    "df.describe().T"
   ]
  },
  {
   "cell_type": "markdown",
   "metadata": {},
   "source": [
    "<h2  style = \"color:blue\"> concentration O3 par rapport a la temperature a 12 </h2>\n"
   ]
  },
  {
   "cell_type": "code",
   "execution_count": 29,
   "metadata": {},
   "outputs": [
    {
     "data": {
      "image/png": "[encoded data removed]",
      "text/plain": [
       "<Figure size 432x288 with 1 Axes>"
      ]
     },
     "metadata": {
      "needs_background": "light"
     },
     "output_type": "display_data"
    }
   ],
   "source": [
    "plt.scatter(df['T12'] , df['maxO3'])\n",
    "plt.xlabel(\"La temperature a 12\")\n",
    "plt.ylabel(\"concentration O3\")\n",
    "plt.title('concentration O3 par rapport a la temperature a 12')\n",
    "plt.show()"
   ]
  },
  {
   "cell_type": "code",
   "execution_count": 32,
   "metadata": {
    "colab": {
     "base_uri": "https://localhost:8080/",
     "height": 1000
    },
    "id": "TyXeb3zKJHCw",
    "outputId": "e7ca1355-6ebd-4b3b-eda2-518f9e917bb9"
   },
   "outputs": [
    {
     "data": {
      "image/png": "[encoded data removed]",
      "text/plain": [
       "<Figure size 1440x720 with 6 Axes>"
      ]
     },
     "metadata": {
      "needs_background": "light"
     },
     "output_type": "display_data"
    }
   ],
   "source": [
    "# Visualisez la distribution de chaque colonne\n",
    "p = df.hist(figsize = (20,10))"
   ]
  },
  {
   "cell_type": "code",
   "execution_count": null,
   "metadata": {
    "colab": {
     "base_uri": "https://localhost:8080/",
     "height": 621
    },
    "id": "-RTSetuGKOOC",
    "outputId": "e46747e8-f6b0-40dd-848d-4df4005d438b"
   },
   "outputs": [],
   "source": []
  },
  {
   "cell_type": "code",
   "execution_count": null,
   "metadata": {
    "colab": {
     "base_uri": "https://localhost:8080/"
    },
    "id": "9vIdfb-xM1bm",
    "outputId": "bcef2e84-53ec-4dc6-e175-71c8f87c59a3"
   },
   "outputs": [],
   "source": []
  },
  {
   "cell_type": "code",
   "execution_count": 66,
   "metadata": {
    "id": "i_VkLVnpOV4D"
   },
   "outputs": [],
   "source": []
  },
  {
   "cell_type": "code",
   "execution_count": null,
   "metadata": {
    "id": "hxr8dz51OL0y"
   },
   "outputs": [],
   "source": []
  }
 ],
 "metadata": {
  "colab": {
   "collapsed_sections": [],
   "name": "Ozone_Dataset.ipynb",
   "provenance": []
  },
  "kernelspec": {
   "display_name": "Python 3 (ipykernel)",
   "language": "python",
   "name": "python3"
  },
  "language_info": {
   "codemirror_mode": {
    "name": "ipython",
    "version": 3
   },
   "file_extension": ".py",
   "mimetype": "text/x-python",
   "name": "python",
   "nbconvert_exporter": "python",
   "pygments_lexer": "ipython3",
   "version": "3.9.7"
  }
 },
 "nbformat": 4,
 "nbformat_minor": 1
}
