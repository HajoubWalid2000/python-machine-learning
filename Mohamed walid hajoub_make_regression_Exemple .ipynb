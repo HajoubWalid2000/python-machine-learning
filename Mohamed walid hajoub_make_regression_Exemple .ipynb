{
 "cells": [
  {
   "cell_type": "markdown",
   "id": "4c04e9fd",
   "metadata": {},
   "source": [
    "<img src=\"pp.png\" align =\"center\" width=\"900\" height=\"600\" /><br>\n",
    "<h1 align =\"center\" style = \"color:blue\"> Fonction make_regression  </h1>"
   ]
  },
  {
   "cell_type": "markdown",
   "id": "584fb0b5",
   "metadata": {},
   "source": [
    "<h2 ><font color=red> Régression </font></h2>"
   ]
  },
  {
   "cell_type": "markdown",
   "id": "c89c6044",
   "metadata": {},
   "source": [
    "\n",
    "En apprentissage automatique, un problème de **régression** est le problème de\n",
    "prédire la valeur d'une variable numérique en fonction des valeurs observées\n",
    "de la variable. La valeur de la variable de sortie peut être un nombre, tel qu'un\n",
    "entier ou une valeur à virgule flottante. Ce sont souvent des quantités, telles\n",
    "que des quantités et des tailles. Les variables d'entrée peuvent être discrètes\n",
    "ou à valeur réelle.\n",
    "\n",
    "Il existe différents types de techniques de régression disponibles pour faire\n",
    "des prédictions. Ces techniques diffèrent principalement sur trois aspects, à\n",
    "savoir le nombre et le type de variables indépendantes, le type de variables\n",
    "dépendantes et la forme de la droite de régression. Certains d'entre eux sont\n",
    "énumérés ci-dessous.\n",
    "1. Régression linéaire simple\n",
    "2. Régression linéaire multivariée\n",
    "3. Régression polynomiale\n",
    "4. Régression logistique"
   ]
  },
  {
   "cell_type": "markdown",
   "id": "d9ad06d9",
   "metadata": {},
   "source": [
    "<h2 ><font color=red> Fonction make_regression () </font></h2>"
   ]
  },
  {
   "cell_type": "markdown",
   "id": "5e7bf5aa",
   "metadata": {},
   "source": [
    "C'est une fonction dans sklearn_datasets  qui est utilisée pour générer notre ensemble de données pour le problème de régression **ou bien de Générer un problème de régression aléatoire.**\n",
    "\n",
    "- L'ensemble d'entrée peut être soit bien conditionné (par défaut) soit avoir un profil singulier de queue de rang faible\n",
    "- La sortie est générée en appliquant un modèle de régression linéaire aléatoire (potentiellement biaisé) avec n_informative non nuls informatifs à l'entrée générée précédemment et un bruit centré gaussien avec une échelle réglable."
   ]
  },
  {
   "cell_type": "markdown",
   "id": "d62e0040",
   "metadata": {},
   "source": [
    "**Paramètres**<br>\n",
    "\n",
    "**n_samples int**, default=100\n",
    "Le nombre d'échantillons.\n",
    "\n",
    "**n_features int**, default=100\n",
    "Le nombre de fonctionnalités.\n",
    "\n",
    "**n_informative int**, default=10\n",
    "Le nombre de caractéristiques informatives,c'est-à-dire le nombre de caractéristiques utilisées pour construire le modèle linéaire utilisé pour générer la sortie.\n",
    "\n",
    "**n_targets int**, default=1\n",
    "Le nombre de cibles de régression,c'est-à-dire la dimension du vecteur de sortie y associé à un échantillon.Par défaut,la sortie est un scalaire.\n",
    "\n",
    "**bias float**, default=0.0\n",
    "Le terme de biais dans le modèle linéaire sous-jacent.\n",
    "\n",
    "**effective_rank int**, default=None\n",
    "si ce n'est pas le cas :\n",
    "Le nombre approximatif de vecteurs singuliers nécessaires pour expliquer la plupart des données d'entrée par des combinaisons linéaires.L'utilisation de ce type de spectre singulier en entrée permet au générateur de reproduire les corrélations souvent observées en pratique.\n",
    "\n",
    "if None:\n",
    "L'ensemble d'entrée est bien conditionné,centré et gaussien avec une variance unitaire.\n",
    "\n",
    "**tail_strength** float, default=0.5\n",
    "L'importance relative de la grosse queue bruyante du profil des valeurs singulières si effective_rank n'est pas None. Lorsqu'il s'agit d'un flottant, il doit être compris entre 0 et 1.\n",
    "\n",
    "**noise float**, default=0.0  **si trés grande alors degré de polynome est grande !!!**\n",
    "L'écart type du bruit gaussien appliqué à la sortie.\n",
    "\n",
    "**shuffle bool**, default=True\n",
    "Mélangez les échantillons et les caractéristiques.\n",
    "\n",
    "**coef bool**, default=False Si True,les coefficients du modèle linéaire sous-jacent sont retournés.\n",
    "\n",
    "**Returns**<br><br>\n",
    "**Xndarray of shape (n_samples, n_features)**\n",
    "Les échantillons d'entrée.\n",
    "\n",
    "**yndarray of shape (n_samples,) or (n_samples, n_targets)**\n",
    "Les valeurs de sortie.\n",
    "\n",
    "**coef ndarray of shape (n_features,) or (n_features, n_targets)**\n",
    "Le coefficient du modèle linéaire sous-jacent.Il est renvoyé uniquement si coef est True.\n"
   ]
  },
  {
   "cell_type": "code",
   "execution_count": 10,
   "id": "7aeaa2f2",
   "metadata": {},
   "outputs": [
    {
     "data": {
      "image/png": "[encoded data removed]",
      "text/plain": [
       "<Figure size 432x288 with 1 Axes>"
      ]
     },
     "metadata": {
      "needs_background": "light"
     },
     "output_type": "display_data"
    }
   ],
   "source": [
    "from sklearn.datasets import make_regression\n",
    "from matplotlib import pyplot\n",
    "# generate regression dataset\n",
    "X, y = make_regression(n_samples=100, n_features=1, noise=0.1)\n",
    "# plot regression dataset\n",
    "pyplot.scatter(X,y)\n",
    "pyplot.show()"
   ]
  },
  {
   "cell_type": "code",
   "execution_count": 9,
   "id": "a854e6fd",
   "metadata": {},
   "outputs": [
    {
     "data": {
      "image/png": "[encoded data removed]",
      "text/plain": [
       "<Figure size 432x288 with 1 Axes>"
      ]
     },
     "metadata": {
      "needs_background": "light"
     },
     "output_type": "display_data"
    }
   ],
   "source": [
    "from sklearn.datasets import make_regression\n",
    "from matplotlib import pyplot\n",
    "# generate regression dataset\n",
    "X, y = make_regression(n_samples=150, n_features=1, noise=10)\n",
    "# plot regression dataset\n",
    "pyplot.scatter(X,y)\n",
    "pyplot.show()"
   ]
  },
  {
   "cell_type": "code",
   "execution_count": 17,
   "id": "2ac0f851",
   "metadata": {},
   "outputs": [
    {
     "data": {
      "image/png": "[encoded data removed]",
      "text/plain": [
       "<Figure size 432x288 with 1 Axes>"
      ]
     },
     "metadata": {
      "needs_background": "light"
     },
     "output_type": "display_data"
    }
   ],
   "source": [
    "from sklearn.datasets import make_regression\n",
    "from matplotlib import pyplot\n",
    "# generate regression dataset\n",
    "X, y = make_regression(n_samples=300, n_features=1, noise=20)\n",
    "# plot regression dataset\n",
    "pyplot.scatter(X,y)\n",
    "pyplot.show()"
   ]
  },
  {
   "cell_type": "code",
   "execution_count": null,
   "id": "5fad726d",
   "metadata": {},
   "outputs": [],
   "source": []
  },
  {
   "cell_type": "code",
   "execution_count": null,
   "id": "1c67fcb3",
   "metadata": {},
   "outputs": [],
   "source": []
  }
 ],
 "metadata": {
  "kernelspec": {
   "display_name": "Python 3 (ipykernel)",
   "language": "python",
   "name": "python3"
  },
  "language_info": {
   "codemirror_mode": {
    "name": "ipython",
    "version": 3
   },
   "file_extension": ".py",
   "mimetype": "text/x-python",
   "name": "python",
   "nbconvert_exporter": "python",
   "pygments_lexer": "ipython3",
   "version": "3.9.7"
  }
 },
 "nbformat": 4,
 "nbformat_minor": 5
}
